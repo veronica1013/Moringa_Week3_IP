{
  "nbformat": 4,
  "nbformat_minor": 5,
  "metadata": {
    "kernelspec": {
      "display_name": "Python 3 (ipykernel)",
      "language": "python",
      "name": "python3"
    },
    "language_info": {
      "codemirror_mode": {
        "name": "ipython",
        "version": 3
      },
      "file_extension": ".py",
      "mimetype": "text/x-python",
      "name": "python",
      "nbconvert_exporter": "python",
      "pygments_lexer": "ipython3",
      "version": "3.8.2"
    },
    "colab": {
      "name": "Updated_Starter_notebook_blood_ai.ipynb",
      "provenance": [],
      "collapsed_sections": [
        "196bd92e"
      ],
      "include_colab_link": true
    }
  },
  "cells": [
    {
      "cell_type": "markdown",
      "metadata": {
        "id": "view-in-github",
        "colab_type": "text"
      },
      "source": [
        "<a href=\"https://colab.research.google.com/github/veronica1013/Moringa_Week3_IP/blob/main/Updated_Starter_notebook_blood_ai.ipynb\" target=\"_parent\"><img src=\"https://colab.research.google.com/assets/colab-badge.svg\" alt=\"Open In Colab\"/></a>"
      ]
    },
    {
      "cell_type": "code",
      "metadata": {
        "id": "f8f5ecb7"
      },
      "source": [
        "import os\n",
        "import pandas as pd\n",
        "import numpy as np\n",
        "import json\n",
        "import random, string\n",
        "import seaborn as sns\n",
        "import matplotlib.pyplot as plt\n",
        "%matplotlib inline"
      ],
      "id": "f8f5ecb7",
      "execution_count": null,
      "outputs": []
    },
    {
      "cell_type": "code",
      "metadata": {
        "id": "64a387fc"
      },
      "source": [
        "# Load the files\n",
        "train = pd.read_csv(\"Train_trimmed.csv\")\n",
        "test = pd.read_csv(\"Test_trimmed.csv\")"
      ],
      "id": "64a387fc",
      "execution_count": null,
      "outputs": []
    },
    {
      "cell_type": "markdown",
      "metadata": {
        "id": "b688e2b7"
      },
      "source": [
        "## Quick look at the DATA"
      ],
      "id": "b688e2b7"
    },
    {
      "cell_type": "code",
      "metadata": {
        "colab": {
          "base_uri": "https://localhost:8080/",
          "height": 190
        },
        "id": "yR7SOOVaHhT3",
        "outputId": "60adf74e-474c-48d2-d4a5-051f64b4b615"
      },
      "source": [
        "test.head(3)"
      ],
      "id": "yR7SOOVaHhT3",
      "execution_count": null,
      "outputs": [
        {
          "output_type": "execute_result",
          "data": {
            "text/html": [
              "<div>\n",
              "<style scoped>\n",
              "    .dataframe tbody tr th:only-of-type {\n",
              "        vertical-align: middle;\n",
              "    }\n",
              "\n",
              "    .dataframe tbody tr th {\n",
              "        vertical-align: top;\n",
              "    }\n",
              "\n",
              "    .dataframe thead th {\n",
              "        text-align: right;\n",
              "    }\n",
              "</style>\n",
              "<table border=\"1\" class=\"dataframe\">\n",
              "  <thead>\n",
              "    <tr style=\"text-align: right;\">\n",
              "      <th></th>\n",
              "      <th>Reading_ID</th>\n",
              "      <th>absorbance0</th>\n",
              "      <th>absorbance1</th>\n",
              "      <th>absorbance2</th>\n",
              "      <th>absorbance3</th>\n",
              "      <th>absorbance4</th>\n",
              "      <th>absorbance5</th>\n",
              "      <th>absorbance6</th>\n",
              "      <th>absorbance7</th>\n",
              "      <th>absorbance8</th>\n",
              "      <th>absorbance9</th>\n",
              "      <th>absorbance10</th>\n",
              "      <th>absorbance11</th>\n",
              "      <th>absorbance12</th>\n",
              "      <th>absorbance13</th>\n",
              "      <th>absorbance14</th>\n",
              "      <th>absorbance15</th>\n",
              "      <th>absorbance16</th>\n",
              "      <th>absorbance17</th>\n",
              "      <th>absorbance18</th>\n",
              "      <th>absorbance19</th>\n",
              "      <th>absorbance20</th>\n",
              "      <th>absorbance21</th>\n",
              "      <th>absorbance22</th>\n",
              "      <th>absorbance23</th>\n",
              "      <th>absorbance24</th>\n",
              "      <th>absorbance25</th>\n",
              "      <th>absorbance26</th>\n",
              "      <th>absorbance27</th>\n",
              "      <th>absorbance28</th>\n",
              "      <th>absorbance29</th>\n",
              "      <th>absorbance30</th>\n",
              "      <th>absorbance31</th>\n",
              "      <th>absorbance32</th>\n",
              "      <th>absorbance33</th>\n",
              "      <th>absorbance34</th>\n",
              "      <th>absorbance35</th>\n",
              "      <th>absorbance36</th>\n",
              "      <th>absorbance37</th>\n",
              "      <th>absorbance38</th>\n",
              "      <th>...</th>\n",
              "      <th>absorbance110</th>\n",
              "      <th>absorbance111</th>\n",
              "      <th>absorbance112</th>\n",
              "      <th>absorbance113</th>\n",
              "      <th>absorbance114</th>\n",
              "      <th>absorbance115</th>\n",
              "      <th>absorbance116</th>\n",
              "      <th>absorbance117</th>\n",
              "      <th>absorbance118</th>\n",
              "      <th>absorbance119</th>\n",
              "      <th>absorbance120</th>\n",
              "      <th>absorbance121</th>\n",
              "      <th>absorbance122</th>\n",
              "      <th>absorbance123</th>\n",
              "      <th>absorbance124</th>\n",
              "      <th>absorbance125</th>\n",
              "      <th>absorbance126</th>\n",
              "      <th>absorbance127</th>\n",
              "      <th>absorbance128</th>\n",
              "      <th>absorbance129</th>\n",
              "      <th>absorbance130</th>\n",
              "      <th>absorbance131</th>\n",
              "      <th>absorbance132</th>\n",
              "      <th>absorbance133</th>\n",
              "      <th>absorbance134</th>\n",
              "      <th>absorbance135</th>\n",
              "      <th>absorbance136</th>\n",
              "      <th>absorbance137</th>\n",
              "      <th>absorbance138</th>\n",
              "      <th>absorbance139</th>\n",
              "      <th>absorbance140</th>\n",
              "      <th>absorbance141</th>\n",
              "      <th>absorbance142</th>\n",
              "      <th>absorbance143</th>\n",
              "      <th>absorbance144</th>\n",
              "      <th>absorbance145</th>\n",
              "      <th>absorbance146</th>\n",
              "      <th>absorbance147</th>\n",
              "      <th>temperature</th>\n",
              "      <th>humidity</th>\n",
              "    </tr>\n",
              "  </thead>\n",
              "  <tbody>\n",
              "    <tr>\n",
              "      <th>0</th>\n",
              "      <td>ID_37BEI22R</td>\n",
              "      <td>0.540020</td>\n",
              "      <td>0.550252</td>\n",
              "      <td>0.555062</td>\n",
              "      <td>0.555983</td>\n",
              "      <td>0.562491</td>\n",
              "      <td>0.559443</td>\n",
              "      <td>0.562695</td>\n",
              "      <td>0.558805</td>\n",
              "      <td>0.559067</td>\n",
              "      <td>0.557602</td>\n",
              "      <td>0.554924</td>\n",
              "      <td>0.553300</td>\n",
              "      <td>0.549671</td>\n",
              "      <td>0.548033</td>\n",
              "      <td>0.544539</td>\n",
              "      <td>0.542640</td>\n",
              "      <td>0.541228</td>\n",
              "      <td>0.540335</td>\n",
              "      <td>0.539378</td>\n",
              "      <td>0.539134</td>\n",
              "      <td>0.538375</td>\n",
              "      <td>0.538068</td>\n",
              "      <td>0.540340</td>\n",
              "      <td>0.541754</td>\n",
              "      <td>0.543920</td>\n",
              "      <td>0.547749</td>\n",
              "      <td>0.550490</td>\n",
              "      <td>0.553550</td>\n",
              "      <td>0.559024</td>\n",
              "      <td>0.562538</td>\n",
              "      <td>0.568940</td>\n",
              "      <td>0.574474</td>\n",
              "      <td>0.588116</td>\n",
              "      <td>0.604365</td>\n",
              "      <td>0.634176</td>\n",
              "      <td>0.663675</td>\n",
              "      <td>0.691110</td>\n",
              "      <td>0.709235</td>\n",
              "      <td>0.724206</td>\n",
              "      <td>...</td>\n",
              "      <td>1.446511</td>\n",
              "      <td>1.445413</td>\n",
              "      <td>1.437354</td>\n",
              "      <td>1.431712</td>\n",
              "      <td>1.431223</td>\n",
              "      <td>1.429847</td>\n",
              "      <td>1.423059</td>\n",
              "      <td>1.417072</td>\n",
              "      <td>1.407601</td>\n",
              "      <td>1.401527</td>\n",
              "      <td>1.407248</td>\n",
              "      <td>1.393886</td>\n",
              "      <td>1.389147</td>\n",
              "      <td>1.385912</td>\n",
              "      <td>1.377751</td>\n",
              "      <td>1.372950</td>\n",
              "      <td>1.366470</td>\n",
              "      <td>1.360301</td>\n",
              "      <td>1.351162</td>\n",
              "      <td>1.346405</td>\n",
              "      <td>1.350380</td>\n",
              "      <td>1.340395</td>\n",
              "      <td>1.326046</td>\n",
              "      <td>1.324390</td>\n",
              "      <td>1.322257</td>\n",
              "      <td>1.314661</td>\n",
              "      <td>1.308962</td>\n",
              "      <td>1.308751</td>\n",
              "      <td>1.298821</td>\n",
              "      <td>1.285794</td>\n",
              "      <td>1.294162</td>\n",
              "      <td>1.286025</td>\n",
              "      <td>1.288414</td>\n",
              "      <td>1.287432</td>\n",
              "      <td>1.266873</td>\n",
              "      <td>1.272191</td>\n",
              "      <td>1.270802</td>\n",
              "      <td>1.263687</td>\n",
              "      <td>40.88</td>\n",
              "      <td>25.70</td>\n",
              "    </tr>\n",
              "    <tr>\n",
              "      <th>1</th>\n",
              "      <td>ID_4W85V5DV</td>\n",
              "      <td>0.603260</td>\n",
              "      <td>0.609797</td>\n",
              "      <td>0.613326</td>\n",
              "      <td>0.616530</td>\n",
              "      <td>0.617400</td>\n",
              "      <td>0.617284</td>\n",
              "      <td>0.615343</td>\n",
              "      <td>0.611668</td>\n",
              "      <td>0.608864</td>\n",
              "      <td>0.606411</td>\n",
              "      <td>0.602919</td>\n",
              "      <td>0.599854</td>\n",
              "      <td>0.597024</td>\n",
              "      <td>0.592800</td>\n",
              "      <td>0.590059</td>\n",
              "      <td>0.586417</td>\n",
              "      <td>0.585922</td>\n",
              "      <td>0.583848</td>\n",
              "      <td>0.583204</td>\n",
              "      <td>0.582259</td>\n",
              "      <td>0.581994</td>\n",
              "      <td>0.582528</td>\n",
              "      <td>0.584993</td>\n",
              "      <td>0.587332</td>\n",
              "      <td>0.590686</td>\n",
              "      <td>0.591674</td>\n",
              "      <td>0.595796</td>\n",
              "      <td>0.599694</td>\n",
              "      <td>0.605431</td>\n",
              "      <td>0.608592</td>\n",
              "      <td>0.613355</td>\n",
              "      <td>0.621625</td>\n",
              "      <td>0.633154</td>\n",
              "      <td>0.655163</td>\n",
              "      <td>0.682106</td>\n",
              "      <td>0.711647</td>\n",
              "      <td>0.739428</td>\n",
              "      <td>0.763052</td>\n",
              "      <td>0.776542</td>\n",
              "      <td>...</td>\n",
              "      <td>1.713526</td>\n",
              "      <td>1.707476</td>\n",
              "      <td>1.690848</td>\n",
              "      <td>1.681204</td>\n",
              "      <td>1.662508</td>\n",
              "      <td>1.653222</td>\n",
              "      <td>1.637013</td>\n",
              "      <td>1.619334</td>\n",
              "      <td>1.613559</td>\n",
              "      <td>1.585294</td>\n",
              "      <td>1.574029</td>\n",
              "      <td>1.563284</td>\n",
              "      <td>1.553378</td>\n",
              "      <td>1.538660</td>\n",
              "      <td>1.524748</td>\n",
              "      <td>1.508455</td>\n",
              "      <td>1.495151</td>\n",
              "      <td>1.494071</td>\n",
              "      <td>1.476984</td>\n",
              "      <td>1.459555</td>\n",
              "      <td>1.449668</td>\n",
              "      <td>1.444659</td>\n",
              "      <td>1.432336</td>\n",
              "      <td>1.425302</td>\n",
              "      <td>1.407856</td>\n",
              "      <td>1.404927</td>\n",
              "      <td>1.400641</td>\n",
              "      <td>1.385942</td>\n",
              "      <td>1.380131</td>\n",
              "      <td>1.367970</td>\n",
              "      <td>1.367653</td>\n",
              "      <td>1.364312</td>\n",
              "      <td>1.357998</td>\n",
              "      <td>1.348350</td>\n",
              "      <td>1.346009</td>\n",
              "      <td>1.330666</td>\n",
              "      <td>1.334532</td>\n",
              "      <td>1.335588</td>\n",
              "      <td>42.35</td>\n",
              "      <td>30.16</td>\n",
              "    </tr>\n",
              "    <tr>\n",
              "      <th>2</th>\n",
              "      <td>ID_L4YR3NDY</td>\n",
              "      <td>0.520005</td>\n",
              "      <td>0.526073</td>\n",
              "      <td>0.529009</td>\n",
              "      <td>0.530775</td>\n",
              "      <td>0.530869</td>\n",
              "      <td>0.529993</td>\n",
              "      <td>0.529816</td>\n",
              "      <td>0.525386</td>\n",
              "      <td>0.522270</td>\n",
              "      <td>0.518925</td>\n",
              "      <td>0.516824</td>\n",
              "      <td>0.514363</td>\n",
              "      <td>0.510227</td>\n",
              "      <td>0.506540</td>\n",
              "      <td>0.503605</td>\n",
              "      <td>0.501884</td>\n",
              "      <td>0.499315</td>\n",
              "      <td>0.498547</td>\n",
              "      <td>0.497386</td>\n",
              "      <td>0.496028</td>\n",
              "      <td>0.495754</td>\n",
              "      <td>0.495847</td>\n",
              "      <td>0.495887</td>\n",
              "      <td>0.497499</td>\n",
              "      <td>0.499683</td>\n",
              "      <td>0.501803</td>\n",
              "      <td>0.504862</td>\n",
              "      <td>0.508623</td>\n",
              "      <td>0.511230</td>\n",
              "      <td>0.516046</td>\n",
              "      <td>0.520374</td>\n",
              "      <td>0.526093</td>\n",
              "      <td>0.536272</td>\n",
              "      <td>0.557057</td>\n",
              "      <td>0.579567</td>\n",
              "      <td>0.604739</td>\n",
              "      <td>0.630935</td>\n",
              "      <td>0.650413</td>\n",
              "      <td>0.664835</td>\n",
              "      <td>...</td>\n",
              "      <td>1.598508</td>\n",
              "      <td>1.578582</td>\n",
              "      <td>1.565059</td>\n",
              "      <td>1.547104</td>\n",
              "      <td>1.530812</td>\n",
              "      <td>1.516311</td>\n",
              "      <td>1.494052</td>\n",
              "      <td>1.481146</td>\n",
              "      <td>1.469487</td>\n",
              "      <td>1.443511</td>\n",
              "      <td>1.430992</td>\n",
              "      <td>1.411109</td>\n",
              "      <td>1.392950</td>\n",
              "      <td>1.382620</td>\n",
              "      <td>1.359417</td>\n",
              "      <td>1.348743</td>\n",
              "      <td>1.334049</td>\n",
              "      <td>1.325644</td>\n",
              "      <td>1.307332</td>\n",
              "      <td>1.295699</td>\n",
              "      <td>1.284021</td>\n",
              "      <td>1.276139</td>\n",
              "      <td>1.262930</td>\n",
              "      <td>1.252719</td>\n",
              "      <td>1.237859</td>\n",
              "      <td>1.231942</td>\n",
              "      <td>1.223501</td>\n",
              "      <td>1.213700</td>\n",
              "      <td>1.206026</td>\n",
              "      <td>1.197681</td>\n",
              "      <td>1.197900</td>\n",
              "      <td>1.196079</td>\n",
              "      <td>1.185196</td>\n",
              "      <td>1.175500</td>\n",
              "      <td>1.169110</td>\n",
              "      <td>1.165897</td>\n",
              "      <td>1.165072</td>\n",
              "      <td>1.167966</td>\n",
              "      <td>42.83</td>\n",
              "      <td>25.51</td>\n",
              "    </tr>\n",
              "  </tbody>\n",
              "</table>\n",
              "<p>3 rows × 151 columns</p>\n",
              "</div>"
            ],
            "text/plain": [
              "    Reading_ID  absorbance0  absorbance1  ...  absorbance147  temperature  humidity\n",
              "0  ID_37BEI22R     0.540020     0.550252  ...       1.263687        40.88     25.70\n",
              "1  ID_4W85V5DV     0.603260     0.609797  ...       1.335588        42.35     30.16\n",
              "2  ID_L4YR3NDY     0.520005     0.526073  ...       1.167966        42.83     25.51\n",
              "\n",
              "[3 rows x 151 columns]"
            ]
          },
          "metadata": {},
          "execution_count": 995
        }
      ]
    },
    {
      "cell_type": "code",
      "metadata": {
        "id": "c086fd62",
        "colab": {
          "base_uri": "https://localhost:8080/",
          "height": 190
        },
        "outputId": "6fc068e7-8310-4287-9ec6-3f46c09bb09c"
      },
      "source": [
        "# Read first 3 rows\n",
        "train.head(3)"
      ],
      "id": "c086fd62",
      "execution_count": null,
      "outputs": [
        {
          "output_type": "execute_result",
          "data": {
            "text/html": [
              "<div>\n",
              "<style scoped>\n",
              "    .dataframe tbody tr th:only-of-type {\n",
              "        vertical-align: middle;\n",
              "    }\n",
              "\n",
              "    .dataframe tbody tr th {\n",
              "        vertical-align: top;\n",
              "    }\n",
              "\n",
              "    .dataframe thead th {\n",
              "        text-align: right;\n",
              "    }\n",
              "</style>\n",
              "<table border=\"1\" class=\"dataframe\">\n",
              "  <thead>\n",
              "    <tr style=\"text-align: right;\">\n",
              "      <th></th>\n",
              "      <th>Reading_ID</th>\n",
              "      <th>absorbance0</th>\n",
              "      <th>absorbance1</th>\n",
              "      <th>absorbance2</th>\n",
              "      <th>absorbance3</th>\n",
              "      <th>absorbance4</th>\n",
              "      <th>absorbance5</th>\n",
              "      <th>absorbance6</th>\n",
              "      <th>absorbance7</th>\n",
              "      <th>absorbance8</th>\n",
              "      <th>absorbance9</th>\n",
              "      <th>absorbance10</th>\n",
              "      <th>absorbance11</th>\n",
              "      <th>absorbance12</th>\n",
              "      <th>absorbance13</th>\n",
              "      <th>absorbance14</th>\n",
              "      <th>absorbance15</th>\n",
              "      <th>absorbance16</th>\n",
              "      <th>absorbance17</th>\n",
              "      <th>absorbance18</th>\n",
              "      <th>absorbance19</th>\n",
              "      <th>absorbance20</th>\n",
              "      <th>absorbance21</th>\n",
              "      <th>absorbance22</th>\n",
              "      <th>absorbance23</th>\n",
              "      <th>absorbance24</th>\n",
              "      <th>absorbance25</th>\n",
              "      <th>absorbance26</th>\n",
              "      <th>absorbance27</th>\n",
              "      <th>absorbance28</th>\n",
              "      <th>absorbance29</th>\n",
              "      <th>absorbance30</th>\n",
              "      <th>absorbance31</th>\n",
              "      <th>absorbance32</th>\n",
              "      <th>absorbance33</th>\n",
              "      <th>absorbance34</th>\n",
              "      <th>absorbance35</th>\n",
              "      <th>absorbance36</th>\n",
              "      <th>absorbance37</th>\n",
              "      <th>absorbance38</th>\n",
              "      <th>...</th>\n",
              "      <th>absorbance113</th>\n",
              "      <th>absorbance114</th>\n",
              "      <th>absorbance115</th>\n",
              "      <th>absorbance116</th>\n",
              "      <th>absorbance117</th>\n",
              "      <th>absorbance118</th>\n",
              "      <th>absorbance119</th>\n",
              "      <th>absorbance120</th>\n",
              "      <th>absorbance121</th>\n",
              "      <th>absorbance122</th>\n",
              "      <th>absorbance123</th>\n",
              "      <th>absorbance124</th>\n",
              "      <th>absorbance125</th>\n",
              "      <th>absorbance126</th>\n",
              "      <th>absorbance127</th>\n",
              "      <th>absorbance128</th>\n",
              "      <th>absorbance129</th>\n",
              "      <th>absorbance130</th>\n",
              "      <th>absorbance131</th>\n",
              "      <th>absorbance132</th>\n",
              "      <th>absorbance133</th>\n",
              "      <th>absorbance134</th>\n",
              "      <th>absorbance135</th>\n",
              "      <th>absorbance136</th>\n",
              "      <th>absorbance137</th>\n",
              "      <th>absorbance138</th>\n",
              "      <th>absorbance139</th>\n",
              "      <th>absorbance140</th>\n",
              "      <th>absorbance141</th>\n",
              "      <th>absorbance142</th>\n",
              "      <th>absorbance143</th>\n",
              "      <th>absorbance144</th>\n",
              "      <th>absorbance145</th>\n",
              "      <th>absorbance146</th>\n",
              "      <th>absorbance147</th>\n",
              "      <th>temperature</th>\n",
              "      <th>humidity</th>\n",
              "      <th>hdl_cholesterol_human</th>\n",
              "      <th>hemoglobin(hgb)_human</th>\n",
              "      <th>cholesterol_ldl_human</th>\n",
              "    </tr>\n",
              "  </thead>\n",
              "  <tbody>\n",
              "    <tr>\n",
              "      <th>0</th>\n",
              "      <td>ID_3SSHI56C</td>\n",
              "      <td>0.561557</td>\n",
              "      <td>0.568417</td>\n",
              "      <td>0.571877</td>\n",
              "      <td>0.570884</td>\n",
              "      <td>0.569032</td>\n",
              "      <td>0.567476</td>\n",
              "      <td>0.565662</td>\n",
              "      <td>0.561901</td>\n",
              "      <td>0.559722</td>\n",
              "      <td>0.557474</td>\n",
              "      <td>0.554371</td>\n",
              "      <td>0.552386</td>\n",
              "      <td>0.548702</td>\n",
              "      <td>0.544238</td>\n",
              "      <td>0.542579</td>\n",
              "      <td>0.540514</td>\n",
              "      <td>0.538980</td>\n",
              "      <td>0.536650</td>\n",
              "      <td>0.536483</td>\n",
              "      <td>0.535447</td>\n",
              "      <td>0.537577</td>\n",
              "      <td>0.535715</td>\n",
              "      <td>0.536895</td>\n",
              "      <td>0.539589</td>\n",
              "      <td>0.541081</td>\n",
              "      <td>0.544893</td>\n",
              "      <td>0.547765</td>\n",
              "      <td>0.551773</td>\n",
              "      <td>0.554599</td>\n",
              "      <td>0.561290</td>\n",
              "      <td>0.566327</td>\n",
              "      <td>0.572561</td>\n",
              "      <td>0.584058</td>\n",
              "      <td>0.600599</td>\n",
              "      <td>0.623070</td>\n",
              "      <td>0.658285</td>\n",
              "      <td>0.686114</td>\n",
              "      <td>0.709545</td>\n",
              "      <td>0.724821</td>\n",
              "      <td>...</td>\n",
              "      <td>1.654336</td>\n",
              "      <td>1.638999</td>\n",
              "      <td>1.625188</td>\n",
              "      <td>1.606235</td>\n",
              "      <td>1.589153</td>\n",
              "      <td>1.572245</td>\n",
              "      <td>1.562602</td>\n",
              "      <td>1.532526</td>\n",
              "      <td>1.521140</td>\n",
              "      <td>1.506031</td>\n",
              "      <td>1.489166</td>\n",
              "      <td>1.469838</td>\n",
              "      <td>1.462617</td>\n",
              "      <td>1.445696</td>\n",
              "      <td>1.435586</td>\n",
              "      <td>1.417847</td>\n",
              "      <td>1.404205</td>\n",
              "      <td>1.388861</td>\n",
              "      <td>1.377436</td>\n",
              "      <td>1.364444</td>\n",
              "      <td>1.360373</td>\n",
              "      <td>1.341243</td>\n",
              "      <td>1.339632</td>\n",
              "      <td>1.321471</td>\n",
              "      <td>1.317444</td>\n",
              "      <td>1.311209</td>\n",
              "      <td>1.291677</td>\n",
              "      <td>1.285579</td>\n",
              "      <td>1.285488</td>\n",
              "      <td>1.275784</td>\n",
              "      <td>1.271104</td>\n",
              "      <td>1.264029</td>\n",
              "      <td>1.250779</td>\n",
              "      <td>1.254856</td>\n",
              "      <td>1.255224</td>\n",
              "      <td>42.51</td>\n",
              "      <td>34.01</td>\n",
              "      <td>ok</td>\n",
              "      <td>ok</td>\n",
              "      <td>ok</td>\n",
              "    </tr>\n",
              "    <tr>\n",
              "      <th>1</th>\n",
              "      <td>ID_599OOLZA</td>\n",
              "      <td>0.558420</td>\n",
              "      <td>0.565449</td>\n",
              "      <td>0.569717</td>\n",
              "      <td>0.570999</td>\n",
              "      <td>0.569969</td>\n",
              "      <td>0.568405</td>\n",
              "      <td>0.566628</td>\n",
              "      <td>0.564101</td>\n",
              "      <td>0.559951</td>\n",
              "      <td>0.556193</td>\n",
              "      <td>0.552271</td>\n",
              "      <td>0.550086</td>\n",
              "      <td>0.546207</td>\n",
              "      <td>0.542366</td>\n",
              "      <td>0.539789</td>\n",
              "      <td>0.537221</td>\n",
              "      <td>0.534336</td>\n",
              "      <td>0.533868</td>\n",
              "      <td>0.533018</td>\n",
              "      <td>0.532227</td>\n",
              "      <td>0.530818</td>\n",
              "      <td>0.532171</td>\n",
              "      <td>0.533658</td>\n",
              "      <td>0.535266</td>\n",
              "      <td>0.538939</td>\n",
              "      <td>0.542399</td>\n",
              "      <td>0.546479</td>\n",
              "      <td>0.550606</td>\n",
              "      <td>0.554408</td>\n",
              "      <td>0.561437</td>\n",
              "      <td>0.567867</td>\n",
              "      <td>0.576763</td>\n",
              "      <td>0.589781</td>\n",
              "      <td>0.610399</td>\n",
              "      <td>0.643898</td>\n",
              "      <td>0.674421</td>\n",
              "      <td>0.701734</td>\n",
              "      <td>0.722878</td>\n",
              "      <td>0.737284</td>\n",
              "      <td>...</td>\n",
              "      <td>1.744440</td>\n",
              "      <td>1.732909</td>\n",
              "      <td>1.713039</td>\n",
              "      <td>1.700202</td>\n",
              "      <td>1.671141</td>\n",
              "      <td>1.659254</td>\n",
              "      <td>1.646976</td>\n",
              "      <td>1.612735</td>\n",
              "      <td>1.615917</td>\n",
              "      <td>1.594293</td>\n",
              "      <td>1.582486</td>\n",
              "      <td>1.552979</td>\n",
              "      <td>1.541997</td>\n",
              "      <td>1.533186</td>\n",
              "      <td>1.518359</td>\n",
              "      <td>1.498964</td>\n",
              "      <td>1.488043</td>\n",
              "      <td>1.472946</td>\n",
              "      <td>1.465925</td>\n",
              "      <td>1.452647</td>\n",
              "      <td>1.437819</td>\n",
              "      <td>1.423670</td>\n",
              "      <td>1.415103</td>\n",
              "      <td>1.401141</td>\n",
              "      <td>1.403560</td>\n",
              "      <td>1.384169</td>\n",
              "      <td>1.379410</td>\n",
              "      <td>1.374128</td>\n",
              "      <td>1.356969</td>\n",
              "      <td>1.352693</td>\n",
              "      <td>1.342430</td>\n",
              "      <td>1.339714</td>\n",
              "      <td>1.332805</td>\n",
              "      <td>1.336324</td>\n",
              "      <td>1.342537</td>\n",
              "      <td>44.52</td>\n",
              "      <td>32.09</td>\n",
              "      <td>ok</td>\n",
              "      <td>high</td>\n",
              "      <td>high</td>\n",
              "    </tr>\n",
              "    <tr>\n",
              "      <th>2</th>\n",
              "      <td>ID_MVJGPQ75</td>\n",
              "      <td>0.530362</td>\n",
              "      <td>0.538530</td>\n",
              "      <td>0.543128</td>\n",
              "      <td>0.546287</td>\n",
              "      <td>0.547001</td>\n",
              "      <td>0.547120</td>\n",
              "      <td>0.546351</td>\n",
              "      <td>0.544254</td>\n",
              "      <td>0.542802</td>\n",
              "      <td>0.542207</td>\n",
              "      <td>0.539779</td>\n",
              "      <td>0.536417</td>\n",
              "      <td>0.533380</td>\n",
              "      <td>0.531117</td>\n",
              "      <td>0.529093</td>\n",
              "      <td>0.526101</td>\n",
              "      <td>0.524599</td>\n",
              "      <td>0.522952</td>\n",
              "      <td>0.521551</td>\n",
              "      <td>0.521149</td>\n",
              "      <td>0.520478</td>\n",
              "      <td>0.521432</td>\n",
              "      <td>0.521473</td>\n",
              "      <td>0.523567</td>\n",
              "      <td>0.525816</td>\n",
              "      <td>0.527889</td>\n",
              "      <td>0.530697</td>\n",
              "      <td>0.533416</td>\n",
              "      <td>0.540124</td>\n",
              "      <td>0.542980</td>\n",
              "      <td>0.549363</td>\n",
              "      <td>0.557174</td>\n",
              "      <td>0.566935</td>\n",
              "      <td>0.587410</td>\n",
              "      <td>0.619436</td>\n",
              "      <td>0.649492</td>\n",
              "      <td>0.680652</td>\n",
              "      <td>0.702569</td>\n",
              "      <td>0.719124</td>\n",
              "      <td>...</td>\n",
              "      <td>1.646114</td>\n",
              "      <td>1.638657</td>\n",
              "      <td>1.626555</td>\n",
              "      <td>1.610017</td>\n",
              "      <td>1.596801</td>\n",
              "      <td>1.585333</td>\n",
              "      <td>1.579274</td>\n",
              "      <td>1.561209</td>\n",
              "      <td>1.539060</td>\n",
              "      <td>1.544212</td>\n",
              "      <td>1.525989</td>\n",
              "      <td>1.516723</td>\n",
              "      <td>1.502255</td>\n",
              "      <td>1.489132</td>\n",
              "      <td>1.483308</td>\n",
              "      <td>1.461028</td>\n",
              "      <td>1.453174</td>\n",
              "      <td>1.450412</td>\n",
              "      <td>1.437784</td>\n",
              "      <td>1.422148</td>\n",
              "      <td>1.415880</td>\n",
              "      <td>1.404698</td>\n",
              "      <td>1.388143</td>\n",
              "      <td>1.397241</td>\n",
              "      <td>1.385680</td>\n",
              "      <td>1.376355</td>\n",
              "      <td>1.357758</td>\n",
              "      <td>1.354854</td>\n",
              "      <td>1.345476</td>\n",
              "      <td>1.333810</td>\n",
              "      <td>1.332739</td>\n",
              "      <td>1.335550</td>\n",
              "      <td>1.326775</td>\n",
              "      <td>1.336862</td>\n",
              "      <td>1.316860</td>\n",
              "      <td>45.77</td>\n",
              "      <td>24.80</td>\n",
              "      <td>ok</td>\n",
              "      <td>ok</td>\n",
              "      <td>high</td>\n",
              "    </tr>\n",
              "  </tbody>\n",
              "</table>\n",
              "<p>3 rows × 154 columns</p>\n",
              "</div>"
            ],
            "text/plain": [
              "    Reading_ID  absorbance0  ...  hemoglobin(hgb)_human  cholesterol_ldl_human\n",
              "0  ID_3SSHI56C     0.561557  ...                     ok                     ok\n",
              "1  ID_599OOLZA     0.558420  ...                   high                   high\n",
              "2  ID_MVJGPQ75     0.530362  ...                     ok                   high\n",
              "\n",
              "[3 rows x 154 columns]"
            ]
          },
          "metadata": {},
          "execution_count": 996
        }
      ]
    },
    {
      "cell_type": "markdown",
      "metadata": {
        "id": "4f752215"
      },
      "source": [
        "The goal of the competition is use the abosrbance which is spectrum to predict the hdl_cholesterol, hemoglobin and ldl_cholestorl level. These can either be low, ok or high. The absobance spectrum has 170 values over the entier frequency range. In the dataset with labels trim, the edges of the absorbance spectrum have been trimmed by Bloods-ai because they believed the edges are noisy. \n",
        "\n",
        "It is up to you to experiment and decide if woriking with the full range or trim range prvents the best results.\n",
        "\n",
        "Note that the each measurement actually contains, 60 scans so a lot of the data will actually just be scans of the same measurement. So it is up to you to make sure your model doesn't overfit and is reliable to the limited variation of the data. The plan is to collect and add more data while the competion is running."
      ],
      "id": "4f752215"
    },
    {
      "cell_type": "markdown",
      "metadata": {
        "id": "56e7610f"
      },
      "source": [
        "### Visualization"
      ],
      "id": "56e7610f"
    },
    {
      "cell_type": "code",
      "metadata": {
        "id": "7506e185",
        "colab": {
          "base_uri": "https://localhost:8080/",
          "height": 334
        },
        "outputId": "b21b31ce-c987-4d4e-c5ae-5ae81047fe0e"
      },
      "source": [
        "sns.countplot(train[\"hdl_cholesterol_human\"]);"
      ],
      "id": "7506e185",
      "execution_count": null,
      "outputs": [
        {
          "output_type": "stream",
          "name": "stderr",
          "text": [
            "/usr/local/lib/python3.7/dist-packages/seaborn/_decorators.py:43: FutureWarning: Pass the following variable as a keyword arg: x. From version 0.12, the only valid positional argument will be `data`, and passing other arguments without an explicit keyword will result in an error or misinterpretation.\n",
            "  FutureWarning\n"
          ]
        },
        {
          "output_type": "display_data",
          "data": {
            "image/png": "[encoded data removed]",
            "text/plain": [
              "<Figure size 432x288 with 1 Axes>"
            ]
          },
          "metadata": {
            "needs_background": "light"
          }
        }
      ]
    },
    {
      "cell_type": "code",
      "metadata": {
        "id": "d5c6333b",
        "colab": {
          "base_uri": "https://localhost:8080/",
          "height": 334
        },
        "outputId": "f3ab7ff6-62dd-471e-9fc6-811601104763"
      },
      "source": [
        "sns.countplot(train[\"hemoglobin(hgb)_human\"]);"
      ],
      "id": "d5c6333b",
      "execution_count": null,
      "outputs": [
        {
          "output_type": "stream",
          "name": "stderr",
          "text": [
            "/usr/local/lib/python3.7/dist-packages/seaborn/_decorators.py:43: FutureWarning: Pass the following variable as a keyword arg: x. From version 0.12, the only valid positional argument will be `data`, and passing other arguments without an explicit keyword will result in an error or misinterpretation.\n",
            "  FutureWarning\n"
          ]
        },
        {
          "output_type": "display_data",
          "data": {
            "image/png": "[encoded data removed]",
            "text/plain": [
              "<Figure size 432x288 with 1 Axes>"
            ]
          },
          "metadata": {
            "needs_background": "light"
          }
        }
      ]
    },
    {
      "cell_type": "code",
      "metadata": {
        "id": "e3c8e18b",
        "colab": {
          "base_uri": "https://localhost:8080/",
          "height": 334
        },
        "outputId": "74fd7f20-88d5-40da-b409-971d2d9c08e2"
      },
      "source": [
        "sns.countplot(train[\"cholesterol_ldl_human\"]);"
      ],
      "id": "e3c8e18b",
      "execution_count": null,
      "outputs": [
        {
          "output_type": "stream",
          "name": "stderr",
          "text": [
            "/usr/local/lib/python3.7/dist-packages/seaborn/_decorators.py:43: FutureWarning: Pass the following variable as a keyword arg: x. From version 0.12, the only valid positional argument will be `data`, and passing other arguments without an explicit keyword will result in an error or misinterpretation.\n",
            "  FutureWarning\n"
          ]
        },
        {
          "output_type": "display_data",
          "data": {
            "image/png": "[encoded data removed]",
            "text/plain": [
              "<Figure size 432x288 with 1 Axes>"
            ]
          },
          "metadata": {
            "needs_background": "light"
          }
        }
      ]
    },
    {
      "cell_type": "code",
      "metadata": {
        "id": "38a12002",
        "colab": {
          "base_uri": "https://localhost:8080/"
        },
        "outputId": "bf380e83-a3aa-4c6c-e678-02f451558619"
      },
      "source": [
        "train.iloc[0, 1:173]"
      ],
      "id": "38a12002",
      "execution_count": null,
      "outputs": [
        {
          "output_type": "execute_result",
          "data": {
            "text/plain": [
              "absorbance0              0.561557\n",
              "absorbance1              0.568417\n",
              "absorbance2              0.571877\n",
              "absorbance3              0.570884\n",
              "absorbance4              0.569032\n",
              "                           ...   \n",
              "temperature                 42.51\n",
              "humidity                    34.01\n",
              "hdl_cholesterol_human          ok\n",
              "hemoglobin(hgb)_human          ok\n",
              "cholesterol_ldl_human          ok\n",
              "Name: 0, Length: 153, dtype: object"
            ]
          },
          "metadata": {},
          "execution_count": 1000
        }
      ]
    },
    {
      "cell_type": "code",
      "metadata": {
        "id": "66081bea",
        "colab": {
          "base_uri": "https://localhost:8080/",
          "height": 190
        },
        "outputId": "a5795a34-6b1d-4f6c-e8cf-d2d826a835e0"
      },
      "source": [
        "train.head(3)"
      ],
      "id": "66081bea",
      "execution_count": null,
      "outputs": [
        {
          "output_type": "execute_result",
          "data": {
            "text/html": [
              "<div>\n",
              "<style scoped>\n",
              "    .dataframe tbody tr th:only-of-type {\n",
              "        vertical-align: middle;\n",
              "    }\n",
              "\n",
              "    .dataframe tbody tr th {\n",
              "        vertical-align: top;\n",
              "    }\n",
              "\n",
              "    .dataframe thead th {\n",
              "        text-align: right;\n",
              "    }\n",
              "</style>\n",
              "<table border=\"1\" class=\"dataframe\">\n",
              "  <thead>\n",
              "    <tr style=\"text-align: right;\">\n",
              "      <th></th>\n",
              "      <th>Reading_ID</th>\n",
              "      <th>absorbance0</th>\n",
              "      <th>absorbance1</th>\n",
              "      <th>absorbance2</th>\n",
              "      <th>absorbance3</th>\n",
              "      <th>absorbance4</th>\n",
              "      <th>absorbance5</th>\n",
              "      <th>absorbance6</th>\n",
              "      <th>absorbance7</th>\n",
              "      <th>absorbance8</th>\n",
              "      <th>absorbance9</th>\n",
              "      <th>absorbance10</th>\n",
              "      <th>absorbance11</th>\n",
              "      <th>absorbance12</th>\n",
              "      <th>absorbance13</th>\n",
              "      <th>absorbance14</th>\n",
              "      <th>absorbance15</th>\n",
              "      <th>absorbance16</th>\n",
              "      <th>absorbance17</th>\n",
              "      <th>absorbance18</th>\n",
              "      <th>absorbance19</th>\n",
              "      <th>absorbance20</th>\n",
              "      <th>absorbance21</th>\n",
              "      <th>absorbance22</th>\n",
              "      <th>absorbance23</th>\n",
              "      <th>absorbance24</th>\n",
              "      <th>absorbance25</th>\n",
              "      <th>absorbance26</th>\n",
              "      <th>absorbance27</th>\n",
              "      <th>absorbance28</th>\n",
              "      <th>absorbance29</th>\n",
              "      <th>absorbance30</th>\n",
              "      <th>absorbance31</th>\n",
              "      <th>absorbance32</th>\n",
              "      <th>absorbance33</th>\n",
              "      <th>absorbance34</th>\n",
              "      <th>absorbance35</th>\n",
              "      <th>absorbance36</th>\n",
              "      <th>absorbance37</th>\n",
              "      <th>absorbance38</th>\n",
              "      <th>...</th>\n",
              "      <th>absorbance113</th>\n",
              "      <th>absorbance114</th>\n",
              "      <th>absorbance115</th>\n",
              "      <th>absorbance116</th>\n",
              "      <th>absorbance117</th>\n",
              "      <th>absorbance118</th>\n",
              "      <th>absorbance119</th>\n",
              "      <th>absorbance120</th>\n",
              "      <th>absorbance121</th>\n",
              "      <th>absorbance122</th>\n",
              "      <th>absorbance123</th>\n",
              "      <th>absorbance124</th>\n",
              "      <th>absorbance125</th>\n",
              "      <th>absorbance126</th>\n",
              "      <th>absorbance127</th>\n",
              "      <th>absorbance128</th>\n",
              "      <th>absorbance129</th>\n",
              "      <th>absorbance130</th>\n",
              "      <th>absorbance131</th>\n",
              "      <th>absorbance132</th>\n",
              "      <th>absorbance133</th>\n",
              "      <th>absorbance134</th>\n",
              "      <th>absorbance135</th>\n",
              "      <th>absorbance136</th>\n",
              "      <th>absorbance137</th>\n",
              "      <th>absorbance138</th>\n",
              "      <th>absorbance139</th>\n",
              "      <th>absorbance140</th>\n",
              "      <th>absorbance141</th>\n",
              "      <th>absorbance142</th>\n",
              "      <th>absorbance143</th>\n",
              "      <th>absorbance144</th>\n",
              "      <th>absorbance145</th>\n",
              "      <th>absorbance146</th>\n",
              "      <th>absorbance147</th>\n",
              "      <th>temperature</th>\n",
              "      <th>humidity</th>\n",
              "      <th>hdl_cholesterol_human</th>\n",
              "      <th>hemoglobin(hgb)_human</th>\n",
              "      <th>cholesterol_ldl_human</th>\n",
              "    </tr>\n",
              "  </thead>\n",
              "  <tbody>\n",
              "    <tr>\n",
              "      <th>0</th>\n",
              "      <td>ID_3SSHI56C</td>\n",
              "      <td>0.561557</td>\n",
              "      <td>0.568417</td>\n",
              "      <td>0.571877</td>\n",
              "      <td>0.570884</td>\n",
              "      <td>0.569032</td>\n",
              "      <td>0.567476</td>\n",
              "      <td>0.565662</td>\n",
              "      <td>0.561901</td>\n",
              "      <td>0.559722</td>\n",
              "      <td>0.557474</td>\n",
              "      <td>0.554371</td>\n",
              "      <td>0.552386</td>\n",
              "      <td>0.548702</td>\n",
              "      <td>0.544238</td>\n",
              "      <td>0.542579</td>\n",
              "      <td>0.540514</td>\n",
              "      <td>0.538980</td>\n",
              "      <td>0.536650</td>\n",
              "      <td>0.536483</td>\n",
              "      <td>0.535447</td>\n",
              "      <td>0.537577</td>\n",
              "      <td>0.535715</td>\n",
              "      <td>0.536895</td>\n",
              "      <td>0.539589</td>\n",
              "      <td>0.541081</td>\n",
              "      <td>0.544893</td>\n",
              "      <td>0.547765</td>\n",
              "      <td>0.551773</td>\n",
              "      <td>0.554599</td>\n",
              "      <td>0.561290</td>\n",
              "      <td>0.566327</td>\n",
              "      <td>0.572561</td>\n",
              "      <td>0.584058</td>\n",
              "      <td>0.600599</td>\n",
              "      <td>0.623070</td>\n",
              "      <td>0.658285</td>\n",
              "      <td>0.686114</td>\n",
              "      <td>0.709545</td>\n",
              "      <td>0.724821</td>\n",
              "      <td>...</td>\n",
              "      <td>1.654336</td>\n",
              "      <td>1.638999</td>\n",
              "      <td>1.625188</td>\n",
              "      <td>1.606235</td>\n",
              "      <td>1.589153</td>\n",
              "      <td>1.572245</td>\n",
              "      <td>1.562602</td>\n",
              "      <td>1.532526</td>\n",
              "      <td>1.521140</td>\n",
              "      <td>1.506031</td>\n",
              "      <td>1.489166</td>\n",
              "      <td>1.469838</td>\n",
              "      <td>1.462617</td>\n",
              "      <td>1.445696</td>\n",
              "      <td>1.435586</td>\n",
              "      <td>1.417847</td>\n",
              "      <td>1.404205</td>\n",
              "      <td>1.388861</td>\n",
              "      <td>1.377436</td>\n",
              "      <td>1.364444</td>\n",
              "      <td>1.360373</td>\n",
              "      <td>1.341243</td>\n",
              "      <td>1.339632</td>\n",
              "      <td>1.321471</td>\n",
              "      <td>1.317444</td>\n",
              "      <td>1.311209</td>\n",
              "      <td>1.291677</td>\n",
              "      <td>1.285579</td>\n",
              "      <td>1.285488</td>\n",
              "      <td>1.275784</td>\n",
              "      <td>1.271104</td>\n",
              "      <td>1.264029</td>\n",
              "      <td>1.250779</td>\n",
              "      <td>1.254856</td>\n",
              "      <td>1.255224</td>\n",
              "      <td>42.51</td>\n",
              "      <td>34.01</td>\n",
              "      <td>ok</td>\n",
              "      <td>ok</td>\n",
              "      <td>ok</td>\n",
              "    </tr>\n",
              "    <tr>\n",
              "      <th>1</th>\n",
              "      <td>ID_599OOLZA</td>\n",
              "      <td>0.558420</td>\n",
              "      <td>0.565449</td>\n",
              "      <td>0.569717</td>\n",
              "      <td>0.570999</td>\n",
              "      <td>0.569969</td>\n",
              "      <td>0.568405</td>\n",
              "      <td>0.566628</td>\n",
              "      <td>0.564101</td>\n",
              "      <td>0.559951</td>\n",
              "      <td>0.556193</td>\n",
              "      <td>0.552271</td>\n",
              "      <td>0.550086</td>\n",
              "      <td>0.546207</td>\n",
              "      <td>0.542366</td>\n",
              "      <td>0.539789</td>\n",
              "      <td>0.537221</td>\n",
              "      <td>0.534336</td>\n",
              "      <td>0.533868</td>\n",
              "      <td>0.533018</td>\n",
              "      <td>0.532227</td>\n",
              "      <td>0.530818</td>\n",
              "      <td>0.532171</td>\n",
              "      <td>0.533658</td>\n",
              "      <td>0.535266</td>\n",
              "      <td>0.538939</td>\n",
              "      <td>0.542399</td>\n",
              "      <td>0.546479</td>\n",
              "      <td>0.550606</td>\n",
              "      <td>0.554408</td>\n",
              "      <td>0.561437</td>\n",
              "      <td>0.567867</td>\n",
              "      <td>0.576763</td>\n",
              "      <td>0.589781</td>\n",
              "      <td>0.610399</td>\n",
              "      <td>0.643898</td>\n",
              "      <td>0.674421</td>\n",
              "      <td>0.701734</td>\n",
              "      <td>0.722878</td>\n",
              "      <td>0.737284</td>\n",
              "      <td>...</td>\n",
              "      <td>1.744440</td>\n",
              "      <td>1.732909</td>\n",
              "      <td>1.713039</td>\n",
              "      <td>1.700202</td>\n",
              "      <td>1.671141</td>\n",
              "      <td>1.659254</td>\n",
              "      <td>1.646976</td>\n",
              "      <td>1.612735</td>\n",
              "      <td>1.615917</td>\n",
              "      <td>1.594293</td>\n",
              "      <td>1.582486</td>\n",
              "      <td>1.552979</td>\n",
              "      <td>1.541997</td>\n",
              "      <td>1.533186</td>\n",
              "      <td>1.518359</td>\n",
              "      <td>1.498964</td>\n",
              "      <td>1.488043</td>\n",
              "      <td>1.472946</td>\n",
              "      <td>1.465925</td>\n",
              "      <td>1.452647</td>\n",
              "      <td>1.437819</td>\n",
              "      <td>1.423670</td>\n",
              "      <td>1.415103</td>\n",
              "      <td>1.401141</td>\n",
              "      <td>1.403560</td>\n",
              "      <td>1.384169</td>\n",
              "      <td>1.379410</td>\n",
              "      <td>1.374128</td>\n",
              "      <td>1.356969</td>\n",
              "      <td>1.352693</td>\n",
              "      <td>1.342430</td>\n",
              "      <td>1.339714</td>\n",
              "      <td>1.332805</td>\n",
              "      <td>1.336324</td>\n",
              "      <td>1.342537</td>\n",
              "      <td>44.52</td>\n",
              "      <td>32.09</td>\n",
              "      <td>ok</td>\n",
              "      <td>high</td>\n",
              "      <td>high</td>\n",
              "    </tr>\n",
              "    <tr>\n",
              "      <th>2</th>\n",
              "      <td>ID_MVJGPQ75</td>\n",
              "      <td>0.530362</td>\n",
              "      <td>0.538530</td>\n",
              "      <td>0.543128</td>\n",
              "      <td>0.546287</td>\n",
              "      <td>0.547001</td>\n",
              "      <td>0.547120</td>\n",
              "      <td>0.546351</td>\n",
              "      <td>0.544254</td>\n",
              "      <td>0.542802</td>\n",
              "      <td>0.542207</td>\n",
              "      <td>0.539779</td>\n",
              "      <td>0.536417</td>\n",
              "      <td>0.533380</td>\n",
              "      <td>0.531117</td>\n",
              "      <td>0.529093</td>\n",
              "      <td>0.526101</td>\n",
              "      <td>0.524599</td>\n",
              "      <td>0.522952</td>\n",
              "      <td>0.521551</td>\n",
              "      <td>0.521149</td>\n",
              "      <td>0.520478</td>\n",
              "      <td>0.521432</td>\n",
              "      <td>0.521473</td>\n",
              "      <td>0.523567</td>\n",
              "      <td>0.525816</td>\n",
              "      <td>0.527889</td>\n",
              "      <td>0.530697</td>\n",
              "      <td>0.533416</td>\n",
              "      <td>0.540124</td>\n",
              "      <td>0.542980</td>\n",
              "      <td>0.549363</td>\n",
              "      <td>0.557174</td>\n",
              "      <td>0.566935</td>\n",
              "      <td>0.587410</td>\n",
              "      <td>0.619436</td>\n",
              "      <td>0.649492</td>\n",
              "      <td>0.680652</td>\n",
              "      <td>0.702569</td>\n",
              "      <td>0.719124</td>\n",
              "      <td>...</td>\n",
              "      <td>1.646114</td>\n",
              "      <td>1.638657</td>\n",
              "      <td>1.626555</td>\n",
              "      <td>1.610017</td>\n",
              "      <td>1.596801</td>\n",
              "      <td>1.585333</td>\n",
              "      <td>1.579274</td>\n",
              "      <td>1.561209</td>\n",
              "      <td>1.539060</td>\n",
              "      <td>1.544212</td>\n",
              "      <td>1.525989</td>\n",
              "      <td>1.516723</td>\n",
              "      <td>1.502255</td>\n",
              "      <td>1.489132</td>\n",
              "      <td>1.483308</td>\n",
              "      <td>1.461028</td>\n",
              "      <td>1.453174</td>\n",
              "      <td>1.450412</td>\n",
              "      <td>1.437784</td>\n",
              "      <td>1.422148</td>\n",
              "      <td>1.415880</td>\n",
              "      <td>1.404698</td>\n",
              "      <td>1.388143</td>\n",
              "      <td>1.397241</td>\n",
              "      <td>1.385680</td>\n",
              "      <td>1.376355</td>\n",
              "      <td>1.357758</td>\n",
              "      <td>1.354854</td>\n",
              "      <td>1.345476</td>\n",
              "      <td>1.333810</td>\n",
              "      <td>1.332739</td>\n",
              "      <td>1.335550</td>\n",
              "      <td>1.326775</td>\n",
              "      <td>1.336862</td>\n",
              "      <td>1.316860</td>\n",
              "      <td>45.77</td>\n",
              "      <td>24.80</td>\n",
              "      <td>ok</td>\n",
              "      <td>ok</td>\n",
              "      <td>high</td>\n",
              "    </tr>\n",
              "  </tbody>\n",
              "</table>\n",
              "<p>3 rows × 154 columns</p>\n",
              "</div>"
            ],
            "text/plain": [
              "    Reading_ID  absorbance0  ...  hemoglobin(hgb)_human  cholesterol_ldl_human\n",
              "0  ID_3SSHI56C     0.561557  ...                     ok                     ok\n",
              "1  ID_599OOLZA     0.558420  ...                   high                   high\n",
              "2  ID_MVJGPQ75     0.530362  ...                     ok                   high\n",
              "\n",
              "[3 rows x 154 columns]"
            ]
          },
          "metadata": {},
          "execution_count": 1001
        }
      ]
    },
    {
      "cell_type": "markdown",
      "metadata": {
        "id": "bd6bac15"
      },
      "source": [
        "You can drop the id column and then convert the data to numpy array"
      ],
      "id": "bd6bac15"
    },
    {
      "cell_type": "code",
      "metadata": {
        "colab": {
          "base_uri": "https://localhost:8080/"
        },
        "id": "1FEGF7o-_ovL",
        "outputId": "72b93581-0b4e-415a-dc9f-d59bf2dbd693"
      },
      "source": [
        "train.columns"
      ],
      "id": "1FEGF7o-_ovL",
      "execution_count": null,
      "outputs": [
        {
          "output_type": "execute_result",
          "data": {
            "text/plain": [
              "Index(['Reading_ID', 'absorbance0', 'absorbance1', 'absorbance2',\n",
              "       'absorbance3', 'absorbance4', 'absorbance5', 'absorbance6',\n",
              "       'absorbance7', 'absorbance8',\n",
              "       ...\n",
              "       'absorbance143', 'absorbance144', 'absorbance145', 'absorbance146',\n",
              "       'absorbance147', 'temperature', 'humidity', 'hdl_cholesterol_human',\n",
              "       'hemoglobin(hgb)_human', 'cholesterol_ldl_human'],\n",
              "      dtype='object', length=154)"
            ]
          },
          "metadata": {},
          "execution_count": 1002
        }
      ]
    },
    {
      "cell_type": "code",
      "metadata": {
        "id": "K-1XlbwvAHWr"
      },
      "source": [
        "# Drop the Reading ID column\n",
        "train.drop([\"Reading_ID\"], axis=1, inplace=True)"
      ],
      "id": "K-1XlbwvAHWr",
      "execution_count": null,
      "outputs": []
    },
    {
      "cell_type": "code",
      "metadata": {
        "colab": {
          "base_uri": "https://localhost:8080/"
        },
        "id": "FH06naM4_8dF",
        "outputId": "97ea9697-2f30-4180-ad04-1a1c59c3a045"
      },
      "source": [
        "# Find the interquartile range\n",
        "Q1 = train.quantile(0.25)\n",
        "Q3 = train.quantile(0.75)\n",
        "IQR = Q3 - Q1\n",
        "print(IQR)"
      ],
      "id": "FH06naM4_8dF",
      "execution_count": null,
      "outputs": [
        {
          "output_type": "stream",
          "name": "stdout",
          "text": [
            "absorbance0       0.049295\n",
            "absorbance1       0.049156\n",
            "absorbance2       0.049158\n",
            "absorbance3       0.049390\n",
            "absorbance4       0.049318\n",
            "                   ...    \n",
            "absorbance145     0.075436\n",
            "absorbance146     0.075514\n",
            "absorbance147     0.075675\n",
            "temperature       3.840000\n",
            "humidity         11.642500\n",
            "Length: 150, dtype: float64\n"
          ]
        }
      ]
    },
    {
      "cell_type": "code",
      "metadata": {
        "colab": {
          "base_uri": "https://localhost:8080/"
        },
        "id": "wUzO9-xZAdCz",
        "outputId": "c202ad5f-4bb7-4292-8963-8495377664b8"
      },
      "source": [
        "# Check for outliers using Inter Quartile Range\n",
        "print((train < (Q1 - 1.5 * IQR)) |(train > (Q3 + 1.5 * IQR)))"
      ],
      "id": "wUzO9-xZAdCz",
      "execution_count": null,
      "outputs": [
        {
          "output_type": "stream",
          "name": "stdout",
          "text": [
            "       absorbance0  absorbance1  ...  humidity  temperature\n",
            "0            False        False  ...     False        False\n",
            "1            False        False  ...     False        False\n",
            "2            False        False  ...     False        False\n",
            "3            False        False  ...     False        False\n",
            "4            False        False  ...     False        False\n",
            "...            ...          ...  ...       ...          ...\n",
            "13135        False        False  ...     False        False\n",
            "13136        False        False  ...     False        False\n",
            "13137        False        False  ...     False        False\n",
            "13138        False        False  ...     False        False\n",
            "13139        False        False  ...     False        False\n",
            "\n",
            "[13140 rows x 153 columns]\n"
          ]
        }
      ]
    },
    {
      "cell_type": "code",
      "metadata": {
        "colab": {
          "base_uri": "https://localhost:8080/"
        },
        "id": "YM9rkdb4Au59",
        "outputId": "1b8dbce7-26ac-4980-e081-e4d275609182"
      },
      "source": [
        "# Remove outliers using IQR\n",
        "train_df = train.copy(deep=True)\n",
        "clean_df = train_df[~((train_df < (Q1 - 1.5 * IQR)) |(train_df > (Q3 + 1.5 * IQR))).any(axis=1)]\n",
        "clean_df.shape"
      ],
      "id": "YM9rkdb4Au59",
      "execution_count": null,
      "outputs": [
        {
          "output_type": "execute_result",
          "data": {
            "text/plain": [
              "(12255, 153)"
            ]
          },
          "metadata": {},
          "execution_count": 1006
        }
      ]
    },
    {
      "cell_type": "code",
      "metadata": {
        "colab": {
          "base_uri": "https://localhost:8080/"
        },
        "id": "EXi2Me0DGoOq",
        "outputId": "79ff5127-876c-4954-afee-5ebfea2561b5"
      },
      "source": [
        "train_df.shape"
      ],
      "id": "EXi2Me0DGoOq",
      "execution_count": null,
      "outputs": [
        {
          "output_type": "execute_result",
          "data": {
            "text/plain": [
              "(13140, 153)"
            ]
          },
          "metadata": {},
          "execution_count": 1007
        }
      ]
    },
    {
      "cell_type": "code",
      "metadata": {
        "colab": {
          "base_uri": "https://localhost:8080/"
        },
        "id": "zd1U1bkvGBg1",
        "outputId": "81171abb-0408-41ac-8b12-9b28e320dac4"
      },
      "source": [
        "train_df.info()"
      ],
      "id": "zd1U1bkvGBg1",
      "execution_count": null,
      "outputs": [
        {
          "output_type": "stream",
          "name": "stdout",
          "text": [
            "<class 'pandas.core.frame.DataFrame'>\n",
            "RangeIndex: 13140 entries, 0 to 13139\n",
            "Columns: 153 entries, absorbance0 to cholesterol_ldl_human\n",
            "dtypes: float64(150), object(3)\n",
            "memory usage: 15.3+ MB\n"
          ]
        }
      ]
    },
    {
      "cell_type": "code",
      "metadata": {
        "colab": {
          "base_uri": "https://localhost:8080/"
        },
        "id": "dYIkCfHdGYN3",
        "outputId": "1cc6f0b6-959a-4796-d6b1-e77441d9bcc3"
      },
      "source": [
        "train_df.dtypes"
      ],
      "id": "dYIkCfHdGYN3",
      "execution_count": null,
      "outputs": [
        {
          "output_type": "execute_result",
          "data": {
            "text/plain": [
              "absorbance0              float64\n",
              "absorbance1              float64\n",
              "absorbance2              float64\n",
              "absorbance3              float64\n",
              "absorbance4              float64\n",
              "                          ...   \n",
              "temperature              float64\n",
              "humidity                 float64\n",
              "hdl_cholesterol_human     object\n",
              "hemoglobin(hgb)_human     object\n",
              "cholesterol_ldl_human     object\n",
              "Length: 153, dtype: object"
            ]
          },
          "metadata": {},
          "execution_count": 1009
        }
      ]
    },
    {
      "cell_type": "code",
      "metadata": {
        "colab": {
          "base_uri": "https://localhost:8080/",
          "height": 142
        },
        "id": "1zJrZMN7GRc8",
        "outputId": "fdcdb6a4-1ad5-468e-a4a6-bd215007cc92"
      },
      "source": [
        "# Select columns with object data type\n",
        "train_df.select_dtypes(np.object).head(3)"
      ],
      "id": "1zJrZMN7GRc8",
      "execution_count": null,
      "outputs": [
        {
          "output_type": "execute_result",
          "data": {
            "text/html": [
              "<div>\n",
              "<style scoped>\n",
              "    .dataframe tbody tr th:only-of-type {\n",
              "        vertical-align: middle;\n",
              "    }\n",
              "\n",
              "    .dataframe tbody tr th {\n",
              "        vertical-align: top;\n",
              "    }\n",
              "\n",
              "    .dataframe thead th {\n",
              "        text-align: right;\n",
              "    }\n",
              "</style>\n",
              "<table border=\"1\" class=\"dataframe\">\n",
              "  <thead>\n",
              "    <tr style=\"text-align: right;\">\n",
              "      <th></th>\n",
              "      <th>hdl_cholesterol_human</th>\n",
              "      <th>hemoglobin(hgb)_human</th>\n",
              "      <th>cholesterol_ldl_human</th>\n",
              "    </tr>\n",
              "  </thead>\n",
              "  <tbody>\n",
              "    <tr>\n",
              "      <th>0</th>\n",
              "      <td>ok</td>\n",
              "      <td>ok</td>\n",
              "      <td>ok</td>\n",
              "    </tr>\n",
              "    <tr>\n",
              "      <th>1</th>\n",
              "      <td>ok</td>\n",
              "      <td>high</td>\n",
              "      <td>high</td>\n",
              "    </tr>\n",
              "    <tr>\n",
              "      <th>2</th>\n",
              "      <td>ok</td>\n",
              "      <td>ok</td>\n",
              "      <td>high</td>\n",
              "    </tr>\n",
              "  </tbody>\n",
              "</table>\n",
              "</div>"
            ],
            "text/plain": [
              "  hdl_cholesterol_human hemoglobin(hgb)_human cholesterol_ldl_human\n",
              "0                    ok                    ok                    ok\n",
              "1                    ok                  high                  high\n",
              "2                    ok                    ok                  high"
            ]
          },
          "metadata": {},
          "execution_count": 1010
        }
      ]
    },
    {
      "cell_type": "code",
      "metadata": {
        "colab": {
          "base_uri": "https://localhost:8080/",
          "height": 142
        },
        "id": "GKHhN7bRHD2U",
        "outputId": "466d01b1-fc08-434b-9b3e-ec1018f5b9df"
      },
      "source": [
        "# Select columns with object data type\n",
        "clean_df.select_dtypes(np.object).head(3)"
      ],
      "id": "GKHhN7bRHD2U",
      "execution_count": null,
      "outputs": [
        {
          "output_type": "execute_result",
          "data": {
            "text/html": [
              "<div>\n",
              "<style scoped>\n",
              "    .dataframe tbody tr th:only-of-type {\n",
              "        vertical-align: middle;\n",
              "    }\n",
              "\n",
              "    .dataframe tbody tr th {\n",
              "        vertical-align: top;\n",
              "    }\n",
              "\n",
              "    .dataframe thead th {\n",
              "        text-align: right;\n",
              "    }\n",
              "</style>\n",
              "<table border=\"1\" class=\"dataframe\">\n",
              "  <thead>\n",
              "    <tr style=\"text-align: right;\">\n",
              "      <th></th>\n",
              "      <th>hdl_cholesterol_human</th>\n",
              "      <th>hemoglobin(hgb)_human</th>\n",
              "      <th>cholesterol_ldl_human</th>\n",
              "    </tr>\n",
              "  </thead>\n",
              "  <tbody>\n",
              "    <tr>\n",
              "      <th>0</th>\n",
              "      <td>ok</td>\n",
              "      <td>ok</td>\n",
              "      <td>ok</td>\n",
              "    </tr>\n",
              "    <tr>\n",
              "      <th>1</th>\n",
              "      <td>ok</td>\n",
              "      <td>high</td>\n",
              "      <td>high</td>\n",
              "    </tr>\n",
              "    <tr>\n",
              "      <th>2</th>\n",
              "      <td>ok</td>\n",
              "      <td>ok</td>\n",
              "      <td>high</td>\n",
              "    </tr>\n",
              "  </tbody>\n",
              "</table>\n",
              "</div>"
            ],
            "text/plain": [
              "  hdl_cholesterol_human hemoglobin(hgb)_human cholesterol_ldl_human\n",
              "0                    ok                    ok                    ok\n",
              "1                    ok                  high                  high\n",
              "2                    ok                    ok                  high"
            ]
          },
          "metadata": {},
          "execution_count": 1011
        }
      ]
    },
    {
      "cell_type": "code",
      "metadata": {
        "id": "4YRC_DMIChO2"
      },
      "source": [
        "# # Apply normalization techniques on temperature and humidity columns\n",
        "# column = ['temperature', 'humidity']\n",
        "# clean_df[column] = clean_df[column] /clean_df[column].abs().max()\n",
        "# clean_df.head(2)"
      ],
      "id": "4YRC_DMIChO2",
      "execution_count": null,
      "outputs": []
    },
    {
      "cell_type": "code",
      "metadata": {
        "colab": {
          "base_uri": "https://localhost:8080/"
        },
        "id": "9dN02htfIbmR",
        "outputId": "498538c6-085d-4cf2-8000-f7df4e3d9a33"
      },
      "source": [
        "clean_df[['absorbance101',\t'absorbance102',\t'absorbance103']].dtypes"
      ],
      "id": "9dN02htfIbmR",
      "execution_count": null,
      "outputs": [
        {
          "output_type": "execute_result",
          "data": {
            "text/plain": [
              "absorbance101    float64\n",
              "absorbance102    float64\n",
              "absorbance103    float64\n",
              "dtype: object"
            ]
          },
          "metadata": {},
          "execution_count": 1013
        }
      ]
    },
    {
      "cell_type": "code",
      "metadata": {
        "colab": {
          "base_uri": "https://localhost:8080/"
        },
        "id": "1we0OTe2ImhI",
        "outputId": "db269fbc-ad02-40dc-ed95-031ba0157e44"
      },
      "source": [
        "# Change absorbance101, absorbance102,\tabsorbance103 columns to float data type\n",
        "clean_df[['absorbance101',\t'absorbance102',\t'absorbance103']] = clean_df[['absorbance101',\t'absorbance102','absorbance103']].astype(float)"
      ],
      "id": "1we0OTe2ImhI",
      "execution_count": null,
      "outputs": [
        {
          "output_type": "stream",
          "name": "stderr",
          "text": [
            "/usr/local/lib/python3.7/dist-packages/pandas/core/frame.py:3069: SettingWithCopyWarning: \n",
            "A value is trying to be set on a copy of a slice from a DataFrame.\n",
            "Try using .loc[row_indexer,col_indexer] = value instead\n",
            "\n",
            "See the caveats in the documentation: https://pandas.pydata.org/pandas-docs/stable/user_guide/indexing.html#returning-a-view-versus-a-copy\n",
            "  self[k1] = value[k2]\n"
          ]
        }
      ]
    },
    {
      "cell_type": "code",
      "metadata": {
        "id": "e8d6a580",
        "colab": {
          "base_uri": "https://localhost:8080/"
        },
        "outputId": "407c8997-975a-4b5b-bb50-8b40123b306f"
      },
      "source": [
        "# Change the dataframe to numpy array\n",
        "data = clean_df.to_numpy()\n",
        "print(data.shape) # 219 IDs"
      ],
      "id": "e8d6a580",
      "execution_count": null,
      "outputs": [
        {
          "output_type": "stream",
          "name": "stdout",
          "text": [
            "(12255, 153)\n"
          ]
        }
      ]
    },
    {
      "cell_type": "code",
      "metadata": {
        "colab": {
          "base_uri": "https://localhost:8080/"
        },
        "id": "ayP9L85hbQ_L",
        "outputId": "a5da82ed-fbf8-43ef-9788-c0fe536a2748"
      },
      "source": [
        "clean_df.shape"
      ],
      "id": "ayP9L85hbQ_L",
      "execution_count": null,
      "outputs": [
        {
          "output_type": "execute_result",
          "data": {
            "text/plain": [
              "(12255, 153)"
            ]
          },
          "metadata": {},
          "execution_count": 1016
        }
      ]
    },
    {
      "cell_type": "markdown",
      "metadata": {
        "id": "6c887da1"
      },
      "source": [
        "The first 170 columns are the abosrbance values, 170 to 172 are the temperature and humidity of the scanner, and the last 3 columns are the values you want to your model to predict "
      ],
      "id": "6c887da1"
    },
    {
      "cell_type": "code",
      "metadata": {
        "colab": {
          "base_uri": "https://localhost:8080/"
        },
        "id": "jvUVFji4JUUZ",
        "outputId": "9f1a7963-756a-4d47-c595-54b6da438af1"
      },
      "source": [
        "clean_df.columns"
      ],
      "id": "jvUVFji4JUUZ",
      "execution_count": null,
      "outputs": [
        {
          "output_type": "execute_result",
          "data": {
            "text/plain": [
              "Index(['absorbance0', 'absorbance1', 'absorbance2', 'absorbance3',\n",
              "       'absorbance4', 'absorbance5', 'absorbance6', 'absorbance7',\n",
              "       'absorbance8', 'absorbance9',\n",
              "       ...\n",
              "       'absorbance143', 'absorbance144', 'absorbance145', 'absorbance146',\n",
              "       'absorbance147', 'temperature', 'humidity', 'hdl_cholesterol_human',\n",
              "       'hemoglobin(hgb)_human', 'cholesterol_ldl_human'],\n",
              "      dtype='object', length=153)"
            ]
          },
          "metadata": {},
          "execution_count": 1017
        }
      ]
    },
    {
      "cell_type": "markdown",
      "metadata": {
        "id": "yh-HHp05KrgZ"
      },
      "source": [
        "## Feature selection using univariate feature selection"
      ],
      "id": "yh-HHp05KrgZ"
    },
    {
      "cell_type": "code",
      "metadata": {
        "id": "cAKJ82xlKyHJ"
      },
      "source": [
        "from sklearn.feature_selection import SelectKBest\n",
        "from sklearn.feature_selection import f_classif"
      ],
      "id": "cAKJ82xlKyHJ",
      "execution_count": null,
      "outputs": []
    },
    {
      "cell_type": "code",
      "metadata": {
        "id": "cmxwh13CNd7w"
      },
      "source": [
        "#features = np.array(data[:,:150], dtype=float) # to add dtype=float\n",
        "labels = data[:, 150:]"
      ],
      "id": "cmxwh13CNd7w",
      "execution_count": null,
      "outputs": []
    },
    {
      "cell_type": "code",
      "metadata": {
        "colab": {
          "base_uri": "https://localhost:8080/"
        },
        "id": "6JwX1i3TZcWM",
        "outputId": "4613be09-4c47-4295-d6c4-ca0250c1c109"
      },
      "source": [
        "y= data[:, 151] # hemoglobin(hgb)_human (The second one)\n",
        "y"
      ],
      "id": "6JwX1i3TZcWM",
      "execution_count": null,
      "outputs": [
        {
          "output_type": "execute_result",
          "data": {
            "text/plain": [
              "array(['ok', 'high', 'ok', ..., 'ok', 'ok', 'ok'], dtype=object)"
            ]
          },
          "metadata": {},
          "execution_count": 1020
        }
      ]
    },
    {
      "cell_type": "code",
      "metadata": {
        "colab": {
          "base_uri": "https://localhost:8080/"
        },
        "id": "eKJ7rmQTZuId",
        "outputId": "f156ed5e-a378-4f8a-c5ca-b4b020cc6028"
      },
      "source": [
        "y1 = data[:, 150] # hdl_cholesterol_human (The first one)\n",
        "y1"
      ],
      "id": "eKJ7rmQTZuId",
      "execution_count": null,
      "outputs": [
        {
          "output_type": "execute_result",
          "data": {
            "text/plain": [
              "array(['ok', 'ok', 'ok', ..., 'ok', 'ok', 'high'], dtype=object)"
            ]
          },
          "metadata": {},
          "execution_count": 1021
        }
      ]
    },
    {
      "cell_type": "code",
      "metadata": {
        "colab": {
          "base_uri": "https://localhost:8080/"
        },
        "id": "T79Ectk9aHfG",
        "outputId": "d9fbf3dd-2f77-4ff1-a634-a5f50ea9f0b4"
      },
      "source": [
        "y2 = data[:, 152] # cholesterol_ldl_human (The third one)\n",
        "y2"
      ],
      "id": "T79Ectk9aHfG",
      "execution_count": null,
      "outputs": [
        {
          "output_type": "execute_result",
          "data": {
            "text/plain": [
              "array(['ok', 'high', 'high', ..., 'ok', 'ok', 'high'], dtype=object)"
            ]
          },
          "metadata": {},
          "execution_count": 1022
        }
      ]
    },
    {
      "cell_type": "code",
      "metadata": {
        "id": "yf-WmkzdLto-"
      },
      "source": [
        "# Drop the three target variables to choose the X or independentvariables/features\n",
        "X= clean_df.drop(columns=['hdl_cholesterol_human', 'hemoglobin(hgb)_human', 'cholesterol_ldl_human'],axis=1)\n",
        "y= data[:, 151] # set hemoglobin(hgb)_human to y for feature selection\n",
        "y1 = data[:, 150] # hdl_cholesterol_human (The first one)\n",
        "#X = features\n",
        "#y = labels\n",
        "#y1= clean_df['hemoglobin(hgb)_human'].astype(int)\n",
        "#y2= clean_df['cholesterol_ldl_human'].astype(int)"
      ],
      "id": "yf-WmkzdLto-",
      "execution_count": null,
      "outputs": []
    },
    {
      "cell_type": "markdown",
      "metadata": {
        "id": "_AZmq03oauCy"
      },
      "source": [
        "## Feature Selection for hemoglobin(hgb)_human "
      ],
      "id": "_AZmq03oauCy"
    },
    {
      "cell_type": "code",
      "metadata": {
        "id": "638Tm11ZK1Xk"
      },
      "source": [
        "uni = SelectKBest(score_func = f_classif, k = 10)\n",
        "fit = uni.fit(X, y)"
      ],
      "id": "638Tm11ZK1Xk",
      "execution_count": null,
      "outputs": []
    },
    {
      "cell_type": "code",
      "metadata": {
        "colab": {
          "base_uri": "https://localhost:8080/"
        },
        "id": "VBmL8gSOK7zn",
        "outputId": "556152b0-e4fd-40d7-9606-4c1437c2491c"
      },
      "source": [
        "X.columns[fit.get_support(indices=True)].tolist()"
      ],
      "id": "VBmL8gSOK7zn",
      "execution_count": null,
      "outputs": [
        {
          "output_type": "execute_result",
          "data": {
            "text/plain": [
              "['absorbance82',\n",
              " 'absorbance83',\n",
              " 'absorbance84',\n",
              " 'absorbance85',\n",
              " 'absorbance86',\n",
              " 'absorbance87',\n",
              " 'absorbance131',\n",
              " 'absorbance134',\n",
              " 'absorbance135',\n",
              " 'absorbance137']"
            ]
          },
          "metadata": {},
          "execution_count": 1025
        }
      ]
    },
    {
      "cell_type": "code",
      "metadata": {
        "id": "Q_1kSSG9LArn"
      },
      "source": [
        "features = clean_df[['absorbance82',\n",
        " 'absorbance83',\n",
        " 'absorbance84',\n",
        " 'absorbance85',\n",
        " 'absorbance86',\n",
        " 'absorbance87',\n",
        " 'absorbance131',\n",
        " 'absorbance134',\n",
        " 'absorbance135',\n",
        " 'absorbance137']]"
      ],
      "id": "Q_1kSSG9LArn",
      "execution_count": null,
      "outputs": []
    },
    {
      "cell_type": "code",
      "metadata": {
        "id": "3c75147c"
      },
      "source": [
        "#features = np.array(data[:,:150]) # to add dtype=float\n",
        "labels = data[:, 150:]"
      ],
      "id": "3c75147c",
      "execution_count": null,
      "outputs": []
    },
    {
      "cell_type": "markdown",
      "metadata": {
        "id": "1f796a77"
      },
      "source": [
        "So using these features and labels, you can go ahead to train you machine learning"
      ],
      "id": "1f796a77"
    },
    {
      "cell_type": "markdown",
      "metadata": {
        "id": "MBTOm9Eda-AX"
      },
      "source": [
        "## Feature selection for hdl_cholesterol_human"
      ],
      "id": "MBTOm9Eda-AX"
    },
    {
      "cell_type": "code",
      "metadata": {
        "id": "-JqZFnqGbIWX"
      },
      "source": [
        "uni = SelectKBest(score_func = f_classif, k = 10)\n",
        "fit = uni.fit(X, y1)"
      ],
      "id": "-JqZFnqGbIWX",
      "execution_count": null,
      "outputs": []
    },
    {
      "cell_type": "code",
      "metadata": {
        "colab": {
          "base_uri": "https://localhost:8080/"
        },
        "id": "qAMlLr4BbR7i",
        "outputId": "ebe8ce3a-6ca8-4cc9-ff93-d5b11c22cc20"
      },
      "source": [
        "X.columns[fit.get_support(indices=True)].tolist()"
      ],
      "id": "qAMlLr4BbR7i",
      "execution_count": null,
      "outputs": [
        {
          "output_type": "execute_result",
          "data": {
            "text/plain": [
              "['absorbance0',\n",
              " 'absorbance1',\n",
              " 'absorbance2',\n",
              " 'absorbance34',\n",
              " 'absorbance35',\n",
              " 'absorbance36',\n",
              " 'absorbance37',\n",
              " 'absorbance38',\n",
              " 'absorbance71',\n",
              " 'humidity']"
            ]
          },
          "metadata": {},
          "execution_count": 1029
        }
      ]
    },
    {
      "cell_type": "code",
      "metadata": {
        "id": "pOc4Pwh4bk_U"
      },
      "source": [
        "features_1 = clean_df[[\n",
        "  'absorbance0',\n",
        " 'absorbance1',\n",
        " 'absorbance2',\n",
        " 'absorbance34',\n",
        " 'absorbance35',\n",
        " 'absorbance36',\n",
        " 'absorbance37',\n",
        " 'absorbance38',\n",
        " 'absorbance71',\n",
        " 'humidity']]"
      ],
      "id": "pOc4Pwh4bk_U",
      "execution_count": null,
      "outputs": []
    },
    {
      "cell_type": "markdown",
      "metadata": {
        "id": "qMgNLYJainmW"
      },
      "source": [
        "## Feature Selection for cholesterol_ldl_human (The third one)"
      ],
      "id": "qMgNLYJainmW"
    },
    {
      "cell_type": "code",
      "metadata": {
        "id": "Zb_x0cljiwZO"
      },
      "source": [
        "uni = SelectKBest(score_func = f_classif, k = 10)\n",
        "fit = uni.fit(X, y2)"
      ],
      "id": "Zb_x0cljiwZO",
      "execution_count": null,
      "outputs": []
    },
    {
      "cell_type": "code",
      "metadata": {
        "colab": {
          "base_uri": "https://localhost:8080/"
        },
        "id": "nDNrzd-Xi4jx",
        "outputId": "fdc58e4f-9336-4c58-adac-72284b27c75b"
      },
      "source": [
        "X.columns[fit.get_support(indices=True)].tolist()"
      ],
      "id": "nDNrzd-Xi4jx",
      "execution_count": null,
      "outputs": [
        {
          "output_type": "execute_result",
          "data": {
            "text/plain": [
              "['absorbance87',\n",
              " 'absorbance88',\n",
              " 'absorbance89',\n",
              " 'absorbance90',\n",
              " 'absorbance91',\n",
              " 'absorbance92',\n",
              " 'absorbance109',\n",
              " 'absorbance112',\n",
              " 'absorbance113',\n",
              " 'absorbance115']"
            ]
          },
          "metadata": {},
          "execution_count": 1032
        }
      ]
    },
    {
      "cell_type": "markdown",
      "metadata": {
        "id": "jxGVpAcui_6c"
      },
      "source": [
        "### Create one feature selection list"
      ],
      "id": "jxGVpAcui_6c"
    },
    {
      "cell_type": "code",
      "metadata": {
        "id": "vah32nOAjDq8"
      },
      "source": [
        "features_final= clean_df[['absorbance87',\n",
        " 'absorbance88',\n",
        " 'absorbance89',\n",
        " 'absorbance90',\n",
        " 'absorbance91',\n",
        " 'absorbance92',\n",
        " 'absorbance109',\n",
        " 'absorbance112',\n",
        " 'absorbance113',\n",
        " 'absorbance115',\n",
        " 'absorbance0',\n",
        " 'absorbance1',\n",
        " 'absorbance2',\n",
        " 'absorbance34',\n",
        " 'absorbance35',\n",
        " 'absorbance36',\n",
        " 'absorbance37',\n",
        " 'absorbance38',\n",
        " 'absorbance71',\n",
        " 'humidity',\n",
        " 'absorbance82',\n",
        " 'absorbance83',\n",
        " 'absorbance84',\n",
        " 'absorbance85',\n",
        " 'absorbance86',\n",
        " 'absorbance87',\n",
        " 'absorbance131',\n",
        " 'absorbance134',\n",
        " 'absorbance135',\n",
        " 'absorbance137']]\n"
      ],
      "id": "vah32nOAjDq8",
      "execution_count": null,
      "outputs": []
    },
    {
      "cell_type": "markdown",
      "metadata": {
        "id": "f01d19ef"
      },
      "source": [
        "## Saving the predictions"
      ],
      "id": "f01d19ef"
    },
    {
      "cell_type": "code",
      "metadata": {
        "id": "163be88a",
        "colab": {
          "base_uri": "https://localhost:8080/",
          "height": 190
        },
        "outputId": "7080fd3c-0532-4db6-df7c-99024d9ad032"
      },
      "source": [
        "# Preview first 3 rows of the test dataset\n",
        "test.head(3)"
      ],
      "id": "163be88a",
      "execution_count": null,
      "outputs": [
        {
          "output_type": "execute_result",
          "data": {
            "text/html": [
              "<div>\n",
              "<style scoped>\n",
              "    .dataframe tbody tr th:only-of-type {\n",
              "        vertical-align: middle;\n",
              "    }\n",
              "\n",
              "    .dataframe tbody tr th {\n",
              "        vertical-align: top;\n",
              "    }\n",
              "\n",
              "    .dataframe thead th {\n",
              "        text-align: right;\n",
              "    }\n",
              "</style>\n",
              "<table border=\"1\" class=\"dataframe\">\n",
              "  <thead>\n",
              "    <tr style=\"text-align: right;\">\n",
              "      <th></th>\n",
              "      <th>Reading_ID</th>\n",
              "      <th>absorbance0</th>\n",
              "      <th>absorbance1</th>\n",
              "      <th>absorbance2</th>\n",
              "      <th>absorbance3</th>\n",
              "      <th>absorbance4</th>\n",
              "      <th>absorbance5</th>\n",
              "      <th>absorbance6</th>\n",
              "      <th>absorbance7</th>\n",
              "      <th>absorbance8</th>\n",
              "      <th>absorbance9</th>\n",
              "      <th>absorbance10</th>\n",
              "      <th>absorbance11</th>\n",
              "      <th>absorbance12</th>\n",
              "      <th>absorbance13</th>\n",
              "      <th>absorbance14</th>\n",
              "      <th>absorbance15</th>\n",
              "      <th>absorbance16</th>\n",
              "      <th>absorbance17</th>\n",
              "      <th>absorbance18</th>\n",
              "      <th>absorbance19</th>\n",
              "      <th>absorbance20</th>\n",
              "      <th>absorbance21</th>\n",
              "      <th>absorbance22</th>\n",
              "      <th>absorbance23</th>\n",
              "      <th>absorbance24</th>\n",
              "      <th>absorbance25</th>\n",
              "      <th>absorbance26</th>\n",
              "      <th>absorbance27</th>\n",
              "      <th>absorbance28</th>\n",
              "      <th>absorbance29</th>\n",
              "      <th>absorbance30</th>\n",
              "      <th>absorbance31</th>\n",
              "      <th>absorbance32</th>\n",
              "      <th>absorbance33</th>\n",
              "      <th>absorbance34</th>\n",
              "      <th>absorbance35</th>\n",
              "      <th>absorbance36</th>\n",
              "      <th>absorbance37</th>\n",
              "      <th>absorbance38</th>\n",
              "      <th>...</th>\n",
              "      <th>absorbance110</th>\n",
              "      <th>absorbance111</th>\n",
              "      <th>absorbance112</th>\n",
              "      <th>absorbance113</th>\n",
              "      <th>absorbance114</th>\n",
              "      <th>absorbance115</th>\n",
              "      <th>absorbance116</th>\n",
              "      <th>absorbance117</th>\n",
              "      <th>absorbance118</th>\n",
              "      <th>absorbance119</th>\n",
              "      <th>absorbance120</th>\n",
              "      <th>absorbance121</th>\n",
              "      <th>absorbance122</th>\n",
              "      <th>absorbance123</th>\n",
              "      <th>absorbance124</th>\n",
              "      <th>absorbance125</th>\n",
              "      <th>absorbance126</th>\n",
              "      <th>absorbance127</th>\n",
              "      <th>absorbance128</th>\n",
              "      <th>absorbance129</th>\n",
              "      <th>absorbance130</th>\n",
              "      <th>absorbance131</th>\n",
              "      <th>absorbance132</th>\n",
              "      <th>absorbance133</th>\n",
              "      <th>absorbance134</th>\n",
              "      <th>absorbance135</th>\n",
              "      <th>absorbance136</th>\n",
              "      <th>absorbance137</th>\n",
              "      <th>absorbance138</th>\n",
              "      <th>absorbance139</th>\n",
              "      <th>absorbance140</th>\n",
              "      <th>absorbance141</th>\n",
              "      <th>absorbance142</th>\n",
              "      <th>absorbance143</th>\n",
              "      <th>absorbance144</th>\n",
              "      <th>absorbance145</th>\n",
              "      <th>absorbance146</th>\n",
              "      <th>absorbance147</th>\n",
              "      <th>temperature</th>\n",
              "      <th>humidity</th>\n",
              "    </tr>\n",
              "  </thead>\n",
              "  <tbody>\n",
              "    <tr>\n",
              "      <th>0</th>\n",
              "      <td>ID_37BEI22R</td>\n",
              "      <td>0.540020</td>\n",
              "      <td>0.550252</td>\n",
              "      <td>0.555062</td>\n",
              "      <td>0.555983</td>\n",
              "      <td>0.562491</td>\n",
              "      <td>0.559443</td>\n",
              "      <td>0.562695</td>\n",
              "      <td>0.558805</td>\n",
              "      <td>0.559067</td>\n",
              "      <td>0.557602</td>\n",
              "      <td>0.554924</td>\n",
              "      <td>0.553300</td>\n",
              "      <td>0.549671</td>\n",
              "      <td>0.548033</td>\n",
              "      <td>0.544539</td>\n",
              "      <td>0.542640</td>\n",
              "      <td>0.541228</td>\n",
              "      <td>0.540335</td>\n",
              "      <td>0.539378</td>\n",
              "      <td>0.539134</td>\n",
              "      <td>0.538375</td>\n",
              "      <td>0.538068</td>\n",
              "      <td>0.540340</td>\n",
              "      <td>0.541754</td>\n",
              "      <td>0.543920</td>\n",
              "      <td>0.547749</td>\n",
              "      <td>0.550490</td>\n",
              "      <td>0.553550</td>\n",
              "      <td>0.559024</td>\n",
              "      <td>0.562538</td>\n",
              "      <td>0.568940</td>\n",
              "      <td>0.574474</td>\n",
              "      <td>0.588116</td>\n",
              "      <td>0.604365</td>\n",
              "      <td>0.634176</td>\n",
              "      <td>0.663675</td>\n",
              "      <td>0.691110</td>\n",
              "      <td>0.709235</td>\n",
              "      <td>0.724206</td>\n",
              "      <td>...</td>\n",
              "      <td>1.446511</td>\n",
              "      <td>1.445413</td>\n",
              "      <td>1.437354</td>\n",
              "      <td>1.431712</td>\n",
              "      <td>1.431223</td>\n",
              "      <td>1.429847</td>\n",
              "      <td>1.423059</td>\n",
              "      <td>1.417072</td>\n",
              "      <td>1.407601</td>\n",
              "      <td>1.401527</td>\n",
              "      <td>1.407248</td>\n",
              "      <td>1.393886</td>\n",
              "      <td>1.389147</td>\n",
              "      <td>1.385912</td>\n",
              "      <td>1.377751</td>\n",
              "      <td>1.372950</td>\n",
              "      <td>1.366470</td>\n",
              "      <td>1.360301</td>\n",
              "      <td>1.351162</td>\n",
              "      <td>1.346405</td>\n",
              "      <td>1.350380</td>\n",
              "      <td>1.340395</td>\n",
              "      <td>1.326046</td>\n",
              "      <td>1.324390</td>\n",
              "      <td>1.322257</td>\n",
              "      <td>1.314661</td>\n",
              "      <td>1.308962</td>\n",
              "      <td>1.308751</td>\n",
              "      <td>1.298821</td>\n",
              "      <td>1.285794</td>\n",
              "      <td>1.294162</td>\n",
              "      <td>1.286025</td>\n",
              "      <td>1.288414</td>\n",
              "      <td>1.287432</td>\n",
              "      <td>1.266873</td>\n",
              "      <td>1.272191</td>\n",
              "      <td>1.270802</td>\n",
              "      <td>1.263687</td>\n",
              "      <td>40.88</td>\n",
              "      <td>25.70</td>\n",
              "    </tr>\n",
              "    <tr>\n",
              "      <th>1</th>\n",
              "      <td>ID_4W85V5DV</td>\n",
              "      <td>0.603260</td>\n",
              "      <td>0.609797</td>\n",
              "      <td>0.613326</td>\n",
              "      <td>0.616530</td>\n",
              "      <td>0.617400</td>\n",
              "      <td>0.617284</td>\n",
              "      <td>0.615343</td>\n",
              "      <td>0.611668</td>\n",
              "      <td>0.608864</td>\n",
              "      <td>0.606411</td>\n",
              "      <td>0.602919</td>\n",
              "      <td>0.599854</td>\n",
              "      <td>0.597024</td>\n",
              "      <td>0.592800</td>\n",
              "      <td>0.590059</td>\n",
              "      <td>0.586417</td>\n",
              "      <td>0.585922</td>\n",
              "      <td>0.583848</td>\n",
              "      <td>0.583204</td>\n",
              "      <td>0.582259</td>\n",
              "      <td>0.581994</td>\n",
              "      <td>0.582528</td>\n",
              "      <td>0.584993</td>\n",
              "      <td>0.587332</td>\n",
              "      <td>0.590686</td>\n",
              "      <td>0.591674</td>\n",
              "      <td>0.595796</td>\n",
              "      <td>0.599694</td>\n",
              "      <td>0.605431</td>\n",
              "      <td>0.608592</td>\n",
              "      <td>0.613355</td>\n",
              "      <td>0.621625</td>\n",
              "      <td>0.633154</td>\n",
              "      <td>0.655163</td>\n",
              "      <td>0.682106</td>\n",
              "      <td>0.711647</td>\n",
              "      <td>0.739428</td>\n",
              "      <td>0.763052</td>\n",
              "      <td>0.776542</td>\n",
              "      <td>...</td>\n",
              "      <td>1.713526</td>\n",
              "      <td>1.707476</td>\n",
              "      <td>1.690848</td>\n",
              "      <td>1.681204</td>\n",
              "      <td>1.662508</td>\n",
              "      <td>1.653222</td>\n",
              "      <td>1.637013</td>\n",
              "      <td>1.619334</td>\n",
              "      <td>1.613559</td>\n",
              "      <td>1.585294</td>\n",
              "      <td>1.574029</td>\n",
              "      <td>1.563284</td>\n",
              "      <td>1.553378</td>\n",
              "      <td>1.538660</td>\n",
              "      <td>1.524748</td>\n",
              "      <td>1.508455</td>\n",
              "      <td>1.495151</td>\n",
              "      <td>1.494071</td>\n",
              "      <td>1.476984</td>\n",
              "      <td>1.459555</td>\n",
              "      <td>1.449668</td>\n",
              "      <td>1.444659</td>\n",
              "      <td>1.432336</td>\n",
              "      <td>1.425302</td>\n",
              "      <td>1.407856</td>\n",
              "      <td>1.404927</td>\n",
              "      <td>1.400641</td>\n",
              "      <td>1.385942</td>\n",
              "      <td>1.380131</td>\n",
              "      <td>1.367970</td>\n",
              "      <td>1.367653</td>\n",
              "      <td>1.364312</td>\n",
              "      <td>1.357998</td>\n",
              "      <td>1.348350</td>\n",
              "      <td>1.346009</td>\n",
              "      <td>1.330666</td>\n",
              "      <td>1.334532</td>\n",
              "      <td>1.335588</td>\n",
              "      <td>42.35</td>\n",
              "      <td>30.16</td>\n",
              "    </tr>\n",
              "    <tr>\n",
              "      <th>2</th>\n",
              "      <td>ID_L4YR3NDY</td>\n",
              "      <td>0.520005</td>\n",
              "      <td>0.526073</td>\n",
              "      <td>0.529009</td>\n",
              "      <td>0.530775</td>\n",
              "      <td>0.530869</td>\n",
              "      <td>0.529993</td>\n",
              "      <td>0.529816</td>\n",
              "      <td>0.525386</td>\n",
              "      <td>0.522270</td>\n",
              "      <td>0.518925</td>\n",
              "      <td>0.516824</td>\n",
              "      <td>0.514363</td>\n",
              "      <td>0.510227</td>\n",
              "      <td>0.506540</td>\n",
              "      <td>0.503605</td>\n",
              "      <td>0.501884</td>\n",
              "      <td>0.499315</td>\n",
              "      <td>0.498547</td>\n",
              "      <td>0.497386</td>\n",
              "      <td>0.496028</td>\n",
              "      <td>0.495754</td>\n",
              "      <td>0.495847</td>\n",
              "      <td>0.495887</td>\n",
              "      <td>0.497499</td>\n",
              "      <td>0.499683</td>\n",
              "      <td>0.501803</td>\n",
              "      <td>0.504862</td>\n",
              "      <td>0.508623</td>\n",
              "      <td>0.511230</td>\n",
              "      <td>0.516046</td>\n",
              "      <td>0.520374</td>\n",
              "      <td>0.526093</td>\n",
              "      <td>0.536272</td>\n",
              "      <td>0.557057</td>\n",
              "      <td>0.579567</td>\n",
              "      <td>0.604739</td>\n",
              "      <td>0.630935</td>\n",
              "      <td>0.650413</td>\n",
              "      <td>0.664835</td>\n",
              "      <td>...</td>\n",
              "      <td>1.598508</td>\n",
              "      <td>1.578582</td>\n",
              "      <td>1.565059</td>\n",
              "      <td>1.547104</td>\n",
              "      <td>1.530812</td>\n",
              "      <td>1.516311</td>\n",
              "      <td>1.494052</td>\n",
              "      <td>1.481146</td>\n",
              "      <td>1.469487</td>\n",
              "      <td>1.443511</td>\n",
              "      <td>1.430992</td>\n",
              "      <td>1.411109</td>\n",
              "      <td>1.392950</td>\n",
              "      <td>1.382620</td>\n",
              "      <td>1.359417</td>\n",
              "      <td>1.348743</td>\n",
              "      <td>1.334049</td>\n",
              "      <td>1.325644</td>\n",
              "      <td>1.307332</td>\n",
              "      <td>1.295699</td>\n",
              "      <td>1.284021</td>\n",
              "      <td>1.276139</td>\n",
              "      <td>1.262930</td>\n",
              "      <td>1.252719</td>\n",
              "      <td>1.237859</td>\n",
              "      <td>1.231942</td>\n",
              "      <td>1.223501</td>\n",
              "      <td>1.213700</td>\n",
              "      <td>1.206026</td>\n",
              "      <td>1.197681</td>\n",
              "      <td>1.197900</td>\n",
              "      <td>1.196079</td>\n",
              "      <td>1.185196</td>\n",
              "      <td>1.175500</td>\n",
              "      <td>1.169110</td>\n",
              "      <td>1.165897</td>\n",
              "      <td>1.165072</td>\n",
              "      <td>1.167966</td>\n",
              "      <td>42.83</td>\n",
              "      <td>25.51</td>\n",
              "    </tr>\n",
              "  </tbody>\n",
              "</table>\n",
              "<p>3 rows × 151 columns</p>\n",
              "</div>"
            ],
            "text/plain": [
              "    Reading_ID  absorbance0  absorbance1  ...  absorbance147  temperature  humidity\n",
              "0  ID_37BEI22R     0.540020     0.550252  ...       1.263687        40.88     25.70\n",
              "1  ID_4W85V5DV     0.603260     0.609797  ...       1.335588        42.35     30.16\n",
              "2  ID_L4YR3NDY     0.520005     0.526073  ...       1.167966        42.83     25.51\n",
              "\n",
              "[3 rows x 151 columns]"
            ]
          },
          "metadata": {},
          "execution_count": 1034
        }
      ]
    },
    {
      "cell_type": "code",
      "metadata": {
        "id": "vXnxVZt6U6AD"
      },
      "source": [
        "test_data= test[[\n",
        "                 'Reading_ID',\n",
        "                 'absorbance82',\n",
        "                 'absorbance83',\n",
        "                 'absorbance84',\n",
        "                 'absorbance85',\n",
        "                 'absorbance86',\n",
        "                 'absorbance87',\n",
        "                 'absorbance131',\n",
        "                 'absorbance134',\n",
        "                 'absorbance135',\n",
        "                 'absorbance137']]              "
      ],
      "id": "vXnxVZt6U6AD",
      "execution_count": null,
      "outputs": []
    },
    {
      "cell_type": "code",
      "metadata": {
        "id": "zkuJtMQfkj8P"
      },
      "source": [
        "# test_data = test[[\n",
        "#                   'absorbance87',\n",
        "#  'absorbance88',\n",
        "#  'absorbance89',\n",
        "#  'absorbance90',\n",
        "#  'absorbance91',\n",
        "#  'absorbance92',\n",
        "#  'absorbance109',\n",
        "#  'absorbance112',\n",
        "#  'absorbance113',\n",
        "#  'absorbance115',\n",
        "#  'Reading_ID',\n",
        "#  'absorbance0',\n",
        "#  'absorbance1',\n",
        "#  'absorbance2',\n",
        "#  'absorbance34',\n",
        "#  'absorbance35',\n",
        "#  'absorbance36',\n",
        "#  'absorbance37',\n",
        "#  'absorbance38',\n",
        "#  'absorbance71',\n",
        "#  'humidity',\n",
        "#  'absorbance82',\n",
        "#  'absorbance83',\n",
        "#  'absorbance84',\n",
        "#  'absorbance85',\n",
        "#  'absorbance86',\n",
        "#  'absorbance87',\n",
        "#  'absorbance131',\n",
        "#  'absorbance134',\n",
        "#  'absorbance135',\n",
        "#  'absorbance137'\n",
        "# ]]"
      ],
      "id": "zkuJtMQfkj8P",
      "execution_count": null,
      "outputs": []
    },
    {
      "cell_type": "code",
      "metadata": {
        "id": "BLxrcRE_b2_U"
      },
      "source": [
        "# test_data_1= test[['Reading_ID','absorbance0',\n",
        "#  'absorbance1',\n",
        "#  'absorbance2',\n",
        "#  'absorbance34',\n",
        "#  'absorbance35',\n",
        "#  'absorbance36',\n",
        "#  'absorbance37',\n",
        "#  'absorbance38',\n",
        "#  'absorbance71',\n",
        "#  'humidity']]"
      ],
      "id": "BLxrcRE_b2_U",
      "execution_count": null,
      "outputs": []
    },
    {
      "cell_type": "code",
      "metadata": {
        "id": "d8ffc29e",
        "colab": {
          "base_uri": "https://localhost:8080/"
        },
        "outputId": "9460c195-5f5c-4be0-cd27-b167f4857fd9"
      },
      "source": [
        "# save it ids before dropping them\n",
        "idx = test_data.Reading_ID.values\n",
        "test_data.drop([\"Reading_ID\"], axis=1, inplace=True)\n",
        "testdata = test_data.to_numpy()"
      ],
      "id": "d8ffc29e",
      "execution_count": null,
      "outputs": [
        {
          "output_type": "stream",
          "name": "stderr",
          "text": [
            "/usr/local/lib/python3.7/dist-packages/pandas/core/frame.py:4174: SettingWithCopyWarning: \n",
            "A value is trying to be set on a copy of a slice from a DataFrame\n",
            "\n",
            "See the caveats in the documentation: https://pandas.pydata.org/pandas-docs/stable/user_guide/indexing.html#returning-a-view-versus-a-copy\n",
            "  errors=errors,\n"
          ]
        }
      ]
    },
    {
      "cell_type": "code",
      "metadata": {
        "id": "edbb1305",
        "colab": {
          "base_uri": "https://localhost:8080/"
        },
        "outputId": "36f56335-cd45-4173-d1c4-08bce6eb86f7"
      },
      "source": [
        "print(test_data.shape) # 61 Individuals"
      ],
      "id": "edbb1305",
      "execution_count": null,
      "outputs": [
        {
          "output_type": "stream",
          "name": "stdout",
          "text": [
            "(3660, 10)\n"
          ]
        }
      ]
    },
    {
      "cell_type": "code",
      "metadata": {
        "id": "xkqKQtxtu4Y5"
      },
      "source": [
        "# # Import the libraries\n",
        "# from sklearn.datasets import make_classification\n",
        "# #from sklearn.linear_model import LogisticRegression\n",
        "# from sklearn.metrics import classification_report, f1_score, accuracy_score, confusion_matrix\n",
        "# from sklearn.metrics import roc_curve, auc, roc_auc_score\n",
        "\n",
        "# from imblearn.over_sampling import SVMSMOTE\n",
        "# class_bal = SVMSMOTE(random_state = 101)\n",
        "\n",
        "# # Choosing a sample\n",
        "# X_class_bal, y_class_bal = make_classification(n_samples=1000, n_features=2,\n",
        "#                                                          n_redundant=0, n_clusters_per_class=1,\n",
        "#                                                          weights=[0.99], flip_y=0, random_state=101)\n",
        "\n",
        "# # Solving Class imbalance\n",
        "# X_class_bal, y_class_bal = class_bal.fit_resample(features, y)"
      ],
      "id": "xkqKQtxtu4Y5",
      "execution_count": null,
      "outputs": []
    },
    {
      "cell_type": "markdown",
      "metadata": {
        "id": "caf2273d"
      },
      "source": [
        "### Basic model example"
      ],
      "id": "caf2273d"
    },
    {
      "cell_type": "markdown",
      "metadata": {
        "id": "00fe1d19"
      },
      "source": [
        "The goal of the project is to classify the level of cholesterol low, cholesterol high and hemoglobin. Your prediction should be something of the form ok, low and high. So you will to build and train a multioutput classfier. Below is basic example using sklearn.\n",
        "\n",
        "Key:\n",
        "low  = 0,\n",
        "ok   = 1,\n",
        "high = 2"
      ],
      "id": "00fe1d19"
    },
    {
      "cell_type": "code",
      "metadata": {
        "id": "64d0d001"
      },
      "source": [
        "labels_n = np.zeros(labels.shape)\n",
        "labels_n[np.where(labels=='low')] = 0\n",
        "labels_n[np.where(labels=='ok')] = 1\n",
        "labels_n[np.where(labels=='high')] = 2"
      ],
      "id": "64d0d001",
      "execution_count": null,
      "outputs": []
    },
    {
      "cell_type": "code",
      "metadata": {
        "id": "b202caf3"
      },
      "source": [
        "from sklearn.datasets import make_classification\n",
        "from sklearn.multioutput import MultiOutputClassifier\n",
        "from sklearn.ensemble import RandomForestClassifier\n",
        "from sklearn.utils import shuffle"
      ],
      "id": "b202caf3",
      "execution_count": null,
      "outputs": []
    },
    {
      "cell_type": "code",
      "metadata": {
        "id": "vzAylw8MjoHp"
      },
      "source": [
        "#features = features_final"
      ],
      "id": "vzAylw8MjoHp",
      "execution_count": null,
      "outputs": []
    },
    {
      "cell_type": "code",
      "metadata": {
        "id": "st2lH0lJab_v"
      },
      "source": [
        "\n",
        "import numpy as np # linear algebra\n",
        "import pandas as pd # data processing, CSV file I/O (e.g. pd.read_csv)\n",
        "\n",
        "from sklearn.model_selection import train_test_split\n",
        "from sklearn.metrics import confusion_matrix\n",
        "from sklearn.metrics import roc_auc_score\n",
        "from sklearn.metrics import classification_report\n",
        "from sklearn.datasets import make_multilabel_classification\n",
        "from xgboost import XGBClassifier\n",
        "from sklearn.model_selection import KFold\n",
        "from sklearn.multioutput import MultiOutputClassifier\n",
        "from sklearn.pipeline import Pipeline\n"
      ],
      "id": "st2lH0lJab_v",
      "execution_count": null,
      "outputs": []
    },
    {
      "cell_type": "code",
      "metadata": {
        "id": "u5CdAsGPb9YJ"
      },
      "source": [
        "n_samples, n_features = features.shape \n",
        "n_outputs = labels_n.shape[1]\n",
        "n_classes = 3"
      ],
      "id": "u5CdAsGPb9YJ",
      "execution_count": null,
      "outputs": []
    },
    {
      "cell_type": "code",
      "metadata": {
        "id": "9GSQHBEgaj-L"
      },
      "source": [
        "features, label_n = make_multilabel_classification(n_samples=n_samples, n_features=n_features, n_classes=3, random_state=88)"
      ],
      "id": "9GSQHBEgaj-L",
      "execution_count": null,
      "outputs": []
    },
    {
      "cell_type": "code",
      "metadata": {
        "id": "FSBHpCUgbolv"
      },
      "source": [
        "xtrain, xtest, ytrain, ytest = train_test_split(features, label_n, train_size=0.8, random_state=88)"
      ],
      "id": "FSBHpCUgbolv",
      "execution_count": null,
      "outputs": []
    },
    {
      "cell_type": "code",
      "metadata": {
        "id": "3wqiSmK0g7xE"
      },
      "source": [
        "# from imblearn.over_sampling import SVMSMOTE\n",
        "# class_bal = SVMSMOTE(random_state = 88)\n",
        "\n",
        "# # # Choosing a sample\n",
        "# X_class_bal, y_class_bal = make_classification(n_samples=n_samples, n_features=3,\n",
        "#                                                           n_redundant=0, n_clusters_per_class=1,\n",
        "#                                                           weights=[0.99], flip_y=0, random_state=88)\n",
        "\n",
        "# # Solve class imbalance\n",
        "# X_class_bal, y_class_bal = class_bal.fit_resample(xtrain, ytrain)"
      ],
      "id": "3wqiSmK0g7xE",
      "execution_count": null,
      "outputs": []
    },
    {
      "cell_type": "code",
      "metadata": {
        "id": "sLZnYVXGmoHd"
      },
      "source": [
        "# n_samples, n_features = features.shape # use xtrain instead of features\n",
        "# n_outputs = labels_n.shape[1]\n",
        "# n_classes = 3\n",
        "forest = RandomForestClassifier(random_state=1, n_estimators=1000, class_weight='balanced')\n",
        "multi_target_forest = MultiOutputClassifier(forest, n_jobs=-1)\n",
        "model = multi_target_forest.fit(xtrain, ytrain)"
      ],
      "id": "sLZnYVXGmoHd",
      "execution_count": null,
      "outputs": []
    },
    {
      "cell_type": "code",
      "metadata": {
        "id": "_cFdJu74ij0G"
      },
      "source": [
        "# import xgboost as xgb\n",
        "# from xgboost import XGBClassifier\n",
        "# # Xgboost parameters\n",
        "# xgb_params = {'learning_rate': 0.01, \n",
        "#               'max_depth': 4,\n",
        "#               'subsample': 0.9,        \n",
        "#               'colsample_bytree': 0.9,\n",
        "#               'objective': 'binary:logistic',\n",
        "#               'silent': 1, \n",
        "#               'n_estimators':100, \n",
        "#               'gamma':1,         \n",
        "#               'min_child_weight':4}   \n",
        "# clf = MultiOutputClassifier(XGBClassifier(**xgb_params, seed = 10))\n"
      ],
      "id": "_cFdJu74ij0G",
      "execution_count": null,
      "outputs": []
    },
    {
      "cell_type": "code",
      "metadata": {
        "id": "sFahiVc2cn0-"
      },
      "source": [
        "# # Defining the model\n",
        "\n",
        "# classifier = MultiOutputClassifier(XGBClassifier())\n",
        "\n",
        "# clf = Pipeline([('classify', classifier)])\n",
        "\n",
        "# print (clf)\n",
        "\n",
        "# print('------------------------------------------------')\n",
        "# Pipeline(steps=[('classify',\n",
        "#                  MultiOutputClassifier(estimator=XGBClassifier(base_score=None,\n",
        "#                                                                booster=None,\n",
        "#                                                                colsample_bylevel=None,\n",
        "#                                                                colsample_bynode=None,\n",
        "#                                                                colsample_bytree=None,\n",
        "#                                                                gamma=None,\n",
        "#                                                                gpu_id=None,\n",
        "#                                                                importance_type='gain',\n",
        "#                                                                interaction_constraints=None,\n",
        "#                                                                learning_rate=None,\n",
        "#                                                                max_delta_step=None,\n",
        "#                                                                max_depth=None,\n",
        "#                                                                min_child_weight=None,\n",
        "#                                                                #missing=nan,\n",
        "#                                                                monotone_constraints=None,\n",
        "#                                                                n_estimators=100,\n",
        "#                                                                n_jobs=None,\n",
        "#                                                                num_parallel_tree=None,\n",
        "#                                                                random_state=None,\n",
        "#                                                                reg_alpha=None,\n",
        "#                                                                reg_lambda=None,\n",
        "#                                                                scale_pos_weight=None,\n",
        "#                                                                subsample=None,\n",
        "#                                                                tree_method=None,\n",
        "#                                                                validate_parameters=None,\n",
        "#                                                                verbosity=None)))])"
      ],
      "id": "sFahiVc2cn0-",
      "execution_count": null,
      "outputs": []
    },
    {
      "cell_type": "code",
      "metadata": {
        "id": "AUzjlCl5c_IL"
      },
      "source": [
        "# # Fit the model with training data\n",
        "# model = clf.fit(xtrain, ytrain)\n",
        "# print(clf.score(xtrain, ytrain))"
      ],
      "id": "AUzjlCl5c_IL",
      "execution_count": null,
      "outputs": []
    },
    {
      "cell_type": "code",
      "metadata": {
        "id": "51fdca82"
      },
      "source": [
        "# n_samples, n_features = features.shape\n",
        "# n_outputs = labels_n.shape[1]\n",
        "# n_classes = 3\n",
        "# forest = RandomForestClassifier(random_state=1, n_estimators=1000, class_weight='balanced')\n",
        "# multi_target_forest = MultiOutputClassifier(forest, n_jobs=-1)\n",
        "# model = multi_target_forest.fit(features, labels_n)"
      ],
      "id": "51fdca82",
      "execution_count": null,
      "outputs": []
    },
    {
      "cell_type": "code",
      "metadata": {
        "id": "4269625a",
        "colab": {
          "base_uri": "https://localhost:8080/"
        },
        "outputId": "40b2a5ae-2ad5-41f3-ac26-603218f04814"
      },
      "source": [
        "multi_target_forest.score(xtrain, ytrain)"
      ],
      "id": "4269625a",
      "execution_count": null,
      "outputs": [
        {
          "output_type": "execute_result",
          "data": {
            "text/plain": [
              "1.0"
            ]
          },
          "metadata": {},
          "execution_count": 1054
        }
      ]
    },
    {
      "cell_type": "code",
      "metadata": {
        "id": "2e111688"
      },
      "source": [
        "def mymodel(xtrain):\n",
        "    output = model.predict(xtrain)\n",
        "    return output"
      ],
      "id": "2e111688",
      "execution_count": null,
      "outputs": []
    },
    {
      "cell_type": "code",
      "metadata": {
        "id": "79ba8578"
      },
      "source": [
        "predictions = mymodel(testdata)\n",
        "# Save the results to csv\n",
        "ss = pd.DataFrame()\n",
        "ss[\"Reading_ID\"] = idx # don't messed up the ids. save them before.\n",
        "ss[\"hdl_cholesterol_human\"] = predictions[:,0]\n",
        "ss[\"hemoglobin(hgb)_human\"] = predictions[:,1]\n",
        "ss[\"cholesterol_ldl_human\"] = predictions[:,2]\n"
      ],
      "id": "79ba8578",
      "execution_count": null,
      "outputs": []
    },
    {
      "cell_type": "code",
      "metadata": {
        "id": "ff7def9e",
        "colab": {
          "base_uri": "https://localhost:8080/",
          "height": 417
        },
        "outputId": "e2d44820-07ff-4500-ebb3-c8d96244e91a"
      },
      "source": [
        "ss"
      ],
      "id": "ff7def9e",
      "execution_count": null,
      "outputs": [
        {
          "output_type": "execute_result",
          "data": {
            "text/html": [
              "<div>\n",
              "<style scoped>\n",
              "    .dataframe tbody tr th:only-of-type {\n",
              "        vertical-align: middle;\n",
              "    }\n",
              "\n",
              "    .dataframe tbody tr th {\n",
              "        vertical-align: top;\n",
              "    }\n",
              "\n",
              "    .dataframe thead th {\n",
              "        text-align: right;\n",
              "    }\n",
              "</style>\n",
              "<table border=\"1\" class=\"dataframe\">\n",
              "  <thead>\n",
              "    <tr style=\"text-align: right;\">\n",
              "      <th></th>\n",
              "      <th>Reading_ID</th>\n",
              "      <th>hdl_cholesterol_human</th>\n",
              "      <th>hemoglobin(hgb)_human</th>\n",
              "      <th>cholesterol_ldl_human</th>\n",
              "    </tr>\n",
              "  </thead>\n",
              "  <tbody>\n",
              "    <tr>\n",
              "      <th>0</th>\n",
              "      <td>ID_37BEI22R</td>\n",
              "      <td>1</td>\n",
              "      <td>1</td>\n",
              "      <td>0</td>\n",
              "    </tr>\n",
              "    <tr>\n",
              "      <th>1</th>\n",
              "      <td>ID_4W85V5DV</td>\n",
              "      <td>1</td>\n",
              "      <td>1</td>\n",
              "      <td>0</td>\n",
              "    </tr>\n",
              "    <tr>\n",
              "      <th>2</th>\n",
              "      <td>ID_L4YR3NDY</td>\n",
              "      <td>1</td>\n",
              "      <td>1</td>\n",
              "      <td>0</td>\n",
              "    </tr>\n",
              "    <tr>\n",
              "      <th>3</th>\n",
              "      <td>ID_U88E3SQ6</td>\n",
              "      <td>1</td>\n",
              "      <td>1</td>\n",
              "      <td>0</td>\n",
              "    </tr>\n",
              "    <tr>\n",
              "      <th>4</th>\n",
              "      <td>ID_NW7Z3XU7</td>\n",
              "      <td>1</td>\n",
              "      <td>1</td>\n",
              "      <td>0</td>\n",
              "    </tr>\n",
              "    <tr>\n",
              "      <th>...</th>\n",
              "      <td>...</td>\n",
              "      <td>...</td>\n",
              "      <td>...</td>\n",
              "      <td>...</td>\n",
              "    </tr>\n",
              "    <tr>\n",
              "      <th>3655</th>\n",
              "      <td>ID_ADCBL266</td>\n",
              "      <td>1</td>\n",
              "      <td>1</td>\n",
              "      <td>0</td>\n",
              "    </tr>\n",
              "    <tr>\n",
              "      <th>3656</th>\n",
              "      <td>ID_SW51B61O</td>\n",
              "      <td>1</td>\n",
              "      <td>1</td>\n",
              "      <td>0</td>\n",
              "    </tr>\n",
              "    <tr>\n",
              "      <th>3657</th>\n",
              "      <td>ID_CO8IHJRA</td>\n",
              "      <td>1</td>\n",
              "      <td>1</td>\n",
              "      <td>0</td>\n",
              "    </tr>\n",
              "    <tr>\n",
              "      <th>3658</th>\n",
              "      <td>ID_VN5CP3ZZ</td>\n",
              "      <td>1</td>\n",
              "      <td>1</td>\n",
              "      <td>0</td>\n",
              "    </tr>\n",
              "    <tr>\n",
              "      <th>3659</th>\n",
              "      <td>ID_UPO13B7Z</td>\n",
              "      <td>1</td>\n",
              "      <td>1</td>\n",
              "      <td>0</td>\n",
              "    </tr>\n",
              "  </tbody>\n",
              "</table>\n",
              "<p>3660 rows × 4 columns</p>\n",
              "</div>"
            ],
            "text/plain": [
              "       Reading_ID  ...  cholesterol_ldl_human\n",
              "0     ID_37BEI22R  ...                      0\n",
              "1     ID_4W85V5DV  ...                      0\n",
              "2     ID_L4YR3NDY  ...                      0\n",
              "3     ID_U88E3SQ6  ...                      0\n",
              "4     ID_NW7Z3XU7  ...                      0\n",
              "...           ...  ...                    ...\n",
              "3655  ID_ADCBL266  ...                      0\n",
              "3656  ID_SW51B61O  ...                      0\n",
              "3657  ID_CO8IHJRA  ...                      0\n",
              "3658  ID_VN5CP3ZZ  ...                      0\n",
              "3659  ID_UPO13B7Z  ...                      0\n",
              "\n",
              "[3660 rows x 4 columns]"
            ]
          },
          "metadata": {},
          "execution_count": 1057
        }
      ]
    },
    {
      "cell_type": "markdown",
      "metadata": {
        "id": "72ae3a21"
      },
      "source": [
        "##### - We need to transform our predictions from 0, 1, 2 to low, ok, high respectively "
      ],
      "id": "72ae3a21"
    },
    {
      "cell_type": "code",
      "metadata": {
        "id": "e193d238"
      },
      "source": [
        "def transform(value):\n",
        "    if value == 0.0:\n",
        "        return 'low'\n",
        "    elif value == 1.0:\n",
        "        return 'ok'\n",
        "    else:\n",
        "        return 'high'\n",
        "        "
      ],
      "id": "e193d238",
      "execution_count": null,
      "outputs": []
    },
    {
      "cell_type": "code",
      "metadata": {
        "id": "e1b94cd8"
      },
      "source": [
        "ss[\"hdl_cholesterol_human\"] = ss[\"hdl_cholesterol_human\"].apply(lambda x: transform(x))\n",
        "ss[\"hemoglobin(hgb)_human\"] = ss[\"hemoglobin(hgb)_human\"].apply(lambda x: transform(x))\n",
        "ss[\"cholesterol_ldl_human\"] = ss[\"cholesterol_ldl_human\"].apply(lambda x: transform(x))"
      ],
      "id": "e1b94cd8",
      "execution_count": null,
      "outputs": []
    },
    {
      "cell_type": "code",
      "metadata": {
        "id": "659bee93",
        "colab": {
          "base_uri": "https://localhost:8080/",
          "height": 203
        },
        "outputId": "d6df742e-5514-4c96-da95-924b4daede28"
      },
      "source": [
        "ss.head()"
      ],
      "id": "659bee93",
      "execution_count": null,
      "outputs": [
        {
          "output_type": "execute_result",
          "data": {
            "text/html": [
              "<div>\n",
              "<style scoped>\n",
              "    .dataframe tbody tr th:only-of-type {\n",
              "        vertical-align: middle;\n",
              "    }\n",
              "\n",
              "    .dataframe tbody tr th {\n",
              "        vertical-align: top;\n",
              "    }\n",
              "\n",
              "    .dataframe thead th {\n",
              "        text-align: right;\n",
              "    }\n",
              "</style>\n",
              "<table border=\"1\" class=\"dataframe\">\n",
              "  <thead>\n",
              "    <tr style=\"text-align: right;\">\n",
              "      <th></th>\n",
              "      <th>Reading_ID</th>\n",
              "      <th>hdl_cholesterol_human</th>\n",
              "      <th>hemoglobin(hgb)_human</th>\n",
              "      <th>cholesterol_ldl_human</th>\n",
              "    </tr>\n",
              "  </thead>\n",
              "  <tbody>\n",
              "    <tr>\n",
              "      <th>0</th>\n",
              "      <td>ID_37BEI22R</td>\n",
              "      <td>ok</td>\n",
              "      <td>ok</td>\n",
              "      <td>low</td>\n",
              "    </tr>\n",
              "    <tr>\n",
              "      <th>1</th>\n",
              "      <td>ID_4W85V5DV</td>\n",
              "      <td>ok</td>\n",
              "      <td>ok</td>\n",
              "      <td>low</td>\n",
              "    </tr>\n",
              "    <tr>\n",
              "      <th>2</th>\n",
              "      <td>ID_L4YR3NDY</td>\n",
              "      <td>ok</td>\n",
              "      <td>ok</td>\n",
              "      <td>low</td>\n",
              "    </tr>\n",
              "    <tr>\n",
              "      <th>3</th>\n",
              "      <td>ID_U88E3SQ6</td>\n",
              "      <td>ok</td>\n",
              "      <td>ok</td>\n",
              "      <td>low</td>\n",
              "    </tr>\n",
              "    <tr>\n",
              "      <th>4</th>\n",
              "      <td>ID_NW7Z3XU7</td>\n",
              "      <td>ok</td>\n",
              "      <td>ok</td>\n",
              "      <td>low</td>\n",
              "    </tr>\n",
              "  </tbody>\n",
              "</table>\n",
              "</div>"
            ],
            "text/plain": [
              "    Reading_ID  ... cholesterol_ldl_human\n",
              "0  ID_37BEI22R  ...                   low\n",
              "1  ID_4W85V5DV  ...                   low\n",
              "2  ID_L4YR3NDY  ...                   low\n",
              "3  ID_U88E3SQ6  ...                   low\n",
              "4  ID_NW7Z3XU7  ...                   low\n",
              "\n",
              "[5 rows x 4 columns]"
            ]
          },
          "metadata": {},
          "execution_count": 981
        }
      ]
    },
    {
      "cell_type": "markdown",
      "metadata": {
        "id": "fe0985d3"
      },
      "source": [
        "#### -  Convert our submission as per the sample submission "
      ],
      "id": "fe0985d3"
    },
    {
      "cell_type": "code",
      "metadata": {
        "id": "e93c3e3b"
      },
      "source": [
        "def transform_c_hdl(row):\n",
        "    return str(row[\"Reading_ID\"]) + \"_hdl_cholesterol_human\" + \"-\" +  row[\"hdl_cholesterol_human\"]"
      ],
      "id": "e93c3e3b",
      "execution_count": null,
      "outputs": []
    },
    {
      "cell_type": "code",
      "metadata": {
        "id": "887386f2"
      },
      "source": [
        "hdl_rows = pd.DataFrame(ss.apply(transform_c_hdl, axis=1))"
      ],
      "id": "887386f2",
      "execution_count": null,
      "outputs": []
    },
    {
      "cell_type": "code",
      "metadata": {
        "id": "a4597be2"
      },
      "source": [
        "def transform_hemo(row):\n",
        "    return str(row[\"Reading_ID\"]) + \"_hemoglobin(hgb)_human\" +  \"-\" + row[\"hemoglobin(hgb)_human\"]"
      ],
      "id": "a4597be2",
      "execution_count": null,
      "outputs": []
    },
    {
      "cell_type": "code",
      "metadata": {
        "id": "cf149965"
      },
      "source": [
        "hemo_rows = pd.DataFrame(ss.apply(transform_hemo, axis=1))"
      ],
      "id": "cf149965",
      "execution_count": null,
      "outputs": []
    },
    {
      "cell_type": "code",
      "metadata": {
        "id": "fac3ca5e"
      },
      "source": [
        "def transform_c_ldl(row):\n",
        "    return str(row[\"Reading_ID\"]) + \"_cholesterol_ldl_human\" +  \"-\" + row[\"cholesterol_ldl_human\"]"
      ],
      "id": "fac3ca5e",
      "execution_count": null,
      "outputs": []
    },
    {
      "cell_type": "code",
      "metadata": {
        "id": "91642da0"
      },
      "source": [
        "ldl_rows = pd.DataFrame(ss.apply(transform_c_ldl, axis=1))"
      ],
      "id": "91642da0",
      "execution_count": null,
      "outputs": []
    },
    {
      "cell_type": "code",
      "metadata": {
        "id": "042d9a38"
      },
      "source": [
        "ss = pd.concat([hdl_rows, hemo_rows, ldl_rows]).reset_index(drop=True)"
      ],
      "id": "042d9a38",
      "execution_count": null,
      "outputs": []
    },
    {
      "cell_type": "code",
      "metadata": {
        "id": "7de78f85"
      },
      "source": [
        "ss[\"target\"] = ss[0].apply(lambda x: x.split(\"-\")[1])\n",
        "ss[0] = ss[0].apply(lambda x: x.split(\"-\")[0])"
      ],
      "id": "7de78f85",
      "execution_count": null,
      "outputs": []
    },
    {
      "cell_type": "code",
      "metadata": {
        "id": "3a61870e"
      },
      "source": [
        "ss = ss.rename(columns={0:\"Reading_ID\"})"
      ],
      "id": "3a61870e",
      "execution_count": null,
      "outputs": []
    },
    {
      "cell_type": "code",
      "metadata": {
        "id": "94c8335f",
        "colab": {
          "base_uri": "https://localhost:8080/",
          "height": 203
        },
        "outputId": "bf53be7d-ce7c-43be-a72a-d6350c50c953"
      },
      "source": [
        "ss.head()"
      ],
      "id": "94c8335f",
      "execution_count": null,
      "outputs": [
        {
          "output_type": "execute_result",
          "data": {
            "text/html": [
              "<div>\n",
              "<style scoped>\n",
              "    .dataframe tbody tr th:only-of-type {\n",
              "        vertical-align: middle;\n",
              "    }\n",
              "\n",
              "    .dataframe tbody tr th {\n",
              "        vertical-align: top;\n",
              "    }\n",
              "\n",
              "    .dataframe thead th {\n",
              "        text-align: right;\n",
              "    }\n",
              "</style>\n",
              "<table border=\"1\" class=\"dataframe\">\n",
              "  <thead>\n",
              "    <tr style=\"text-align: right;\">\n",
              "      <th></th>\n",
              "      <th>Reading_ID</th>\n",
              "      <th>target</th>\n",
              "    </tr>\n",
              "  </thead>\n",
              "  <tbody>\n",
              "    <tr>\n",
              "      <th>0</th>\n",
              "      <td>ID_37BEI22R_hdl_cholesterol_human</td>\n",
              "      <td>ok</td>\n",
              "    </tr>\n",
              "    <tr>\n",
              "      <th>1</th>\n",
              "      <td>ID_4W85V5DV_hdl_cholesterol_human</td>\n",
              "      <td>ok</td>\n",
              "    </tr>\n",
              "    <tr>\n",
              "      <th>2</th>\n",
              "      <td>ID_L4YR3NDY_hdl_cholesterol_human</td>\n",
              "      <td>ok</td>\n",
              "    </tr>\n",
              "    <tr>\n",
              "      <th>3</th>\n",
              "      <td>ID_U88E3SQ6_hdl_cholesterol_human</td>\n",
              "      <td>ok</td>\n",
              "    </tr>\n",
              "    <tr>\n",
              "      <th>4</th>\n",
              "      <td>ID_NW7Z3XU7_hdl_cholesterol_human</td>\n",
              "      <td>ok</td>\n",
              "    </tr>\n",
              "  </tbody>\n",
              "</table>\n",
              "</div>"
            ],
            "text/plain": [
              "                          Reading_ID target\n",
              "0  ID_37BEI22R_hdl_cholesterol_human     ok\n",
              "1  ID_4W85V5DV_hdl_cholesterol_human     ok\n",
              "2  ID_L4YR3NDY_hdl_cholesterol_human     ok\n",
              "3  ID_U88E3SQ6_hdl_cholesterol_human     ok\n",
              "4  ID_NW7Z3XU7_hdl_cholesterol_human     ok"
            ]
          },
          "metadata": {},
          "execution_count": 991
        }
      ]
    },
    {
      "cell_type": "code",
      "metadata": {
        "id": "32d7f325"
      },
      "source": [
        "ss.to_csv(\"submission_nana_bal.csv\", index=False)"
      ],
      "id": "32d7f325",
      "execution_count": null,
      "outputs": []
    },
    {
      "cell_type": "markdown",
      "metadata": {
        "id": "196bd92e"
      },
      "source": [
        "### To Do\n",
        "- Try other models,\n",
        "- Cross validation"
      ],
      "id": "196bd92e"
    },
    {
      "cell_type": "markdown",
      "metadata": {
        "id": "cO1U4UXeQtol"
      },
      "source": [
        "### Train Using Regression Model"
      ],
      "id": "cO1U4UXeQtol"
    },
    {
      "cell_type": "code",
      "metadata": {
        "id": "BpGR7IAzQyay"
      },
      "source": [
        "# Init setup\n",
        "from pycaret.regression import *\n",
        "s = setup(train, target = 'target')\n",
        "\n",
        "# Model training and selection\n",
        "best = compare_models()\n",
        "\n",
        "# Analyse best model\n",
        "evaluate_model(best)\n",
        "\n",
        "# Predict on new data\n",
        "predictions = predict_model(best, data=test)\n",
        "\n",
        "# Save best pipeline\n",
        "save_model(best, 'my_best_pipeline')"
      ],
      "id": "BpGR7IAzQyay",
      "execution_count": null,
      "outputs": []
    },
    {
      "cell_type": "markdown",
      "metadata": {
        "id": "-FAlQLCUpYAi"
      },
      "source": [
        "### Training using Xgboost"
      ],
      "id": "-FAlQLCUpYAi"
    },
    {
      "cell_type": "code",
      "metadata": {
        "id": "Y0uwQLnHqies"
      },
      "source": [
        "# # XGBoost \n",
        "# from xgboost import XGBClassifier\n",
        "# clf = XGBClassifier()\n",
        "# # n_estimators = 100 (default)\n",
        "# # max_depth = 3 (default)\n",
        "# y_predict_clf = clf.fit(X_class_bal_scaled, y_class_bal_encoded)\n",
        "# y_prob_clf = clf.predict(X_class_bal_scaled)[:,1]\n",
        "\n",
        "# print(classification_report(y_val, y_predict_clf))\n",
        "# print('Confusion Matrix:',confusion_matrix(y_val, y_predict_clf))"
      ],
      "id": "Y0uwQLnHqies",
      "execution_count": null,
      "outputs": []
    },
    {
      "cell_type": "code",
      "metadata": {
        "id": "3tE-TwgbrHQs"
      },
      "source": [
        "from sklearn.model_selection import train_test_split\n",
        "\n",
        "# Splitting the Data\n",
        "X_train, X_val, y_train, y_val = train_test_split(features, \n",
        "                                                  y, test_size=0.33,\n",
        "                                                  shuffle=True)"
      ],
      "id": "3tE-TwgbrHQs",
      "execution_count": null,
      "outputs": []
    },
    {
      "cell_type": "code",
      "metadata": {
        "colab": {
          "base_uri": "https://localhost:8080/"
        },
        "id": "TetqIkL7rX3L",
        "outputId": "fff6d233-a1e4-40a1-f8bd-388ab9b1d248"
      },
      "source": [
        "# Import the libraries\n",
        "from sklearn.datasets import make_classification\n",
        "#from sklearn.linear_model import LogisticRegression\n",
        "from sklearn.metrics import classification_report, f1_score, accuracy_score, confusion_matrix\n",
        "from sklearn.metrics import roc_curve, auc, roc_auc_score\n",
        "\n",
        "from imblearn.over_sampling import SVMSMOTE\n",
        "class_bal = SVMSMOTE(random_state = 101)\n",
        "\n",
        "# # Choosing a sample\n",
        "# X_class_bal, y_class_bal = make_classification(n_samples=100, n_features=3,\n",
        "#                                                          n_redundant=0, n_clusters_per_class=1,\n",
        "#                                                          weights=[0.99], flip_y=0, random_state=101)\n",
        "\n",
        "# Solve class imbalance\n",
        "X_class_bal, y_class_bal = class_bal.fit_resample(X_train, y_train)\n"
      ],
      "id": "TetqIkL7rX3L",
      "execution_count": null,
      "outputs": [
        {
          "output_type": "stream",
          "name": "stderr",
          "text": [
            "/usr/local/lib/python3.7/dist-packages/sklearn/utils/deprecation.py:87: FutureWarning: Function safe_indexing is deprecated; safe_indexing is deprecated in version 0.22 and will be removed in version 0.24.\n",
            "  warnings.warn(msg, category=FutureWarning)\n",
            "/usr/local/lib/python3.7/dist-packages/sklearn/utils/deprecation.py:87: FutureWarning: Function safe_indexing is deprecated; safe_indexing is deprecated in version 0.22 and will be removed in version 0.24.\n",
            "  warnings.warn(msg, category=FutureWarning)\n",
            "/usr/local/lib/python3.7/dist-packages/sklearn/utils/deprecation.py:87: FutureWarning: Function safe_indexing is deprecated; safe_indexing is deprecated in version 0.22 and will be removed in version 0.24.\n",
            "  warnings.warn(msg, category=FutureWarning)\n",
            "/usr/local/lib/python3.7/dist-packages/sklearn/utils/deprecation.py:87: FutureWarning: Function safe_indexing is deprecated; safe_indexing is deprecated in version 0.22 and will be removed in version 0.24.\n",
            "  warnings.warn(msg, category=FutureWarning)\n",
            "/usr/local/lib/python3.7/dist-packages/sklearn/utils/deprecation.py:87: FutureWarning: Function safe_indexing is deprecated; safe_indexing is deprecated in version 0.22 and will be removed in version 0.24.\n",
            "  warnings.warn(msg, category=FutureWarning)\n",
            "/usr/local/lib/python3.7/dist-packages/sklearn/utils/deprecation.py:87: FutureWarning: Function safe_indexing is deprecated; safe_indexing is deprecated in version 0.22 and will be removed in version 0.24.\n",
            "  warnings.warn(msg, category=FutureWarning)\n",
            "/usr/local/lib/python3.7/dist-packages/sklearn/utils/deprecation.py:87: FutureWarning: Function safe_indexing is deprecated; safe_indexing is deprecated in version 0.22 and will be removed in version 0.24.\n",
            "  warnings.warn(msg, category=FutureWarning)\n",
            "/usr/local/lib/python3.7/dist-packages/sklearn/utils/deprecation.py:87: FutureWarning: Function safe_indexing is deprecated; safe_indexing is deprecated in version 0.22 and will be removed in version 0.24.\n",
            "  warnings.warn(msg, category=FutureWarning)\n",
            "/usr/local/lib/python3.7/dist-packages/sklearn/utils/deprecation.py:87: FutureWarning: Function safe_indexing is deprecated; safe_indexing is deprecated in version 0.22 and will be removed in version 0.24.\n",
            "  warnings.warn(msg, category=FutureWarning)\n",
            "/usr/local/lib/python3.7/dist-packages/sklearn/utils/deprecation.py:87: FutureWarning: Function safe_indexing is deprecated; safe_indexing is deprecated in version 0.22 and will be removed in version 0.24.\n",
            "  warnings.warn(msg, category=FutureWarning)\n",
            "/usr/local/lib/python3.7/dist-packages/sklearn/utils/deprecation.py:87: FutureWarning: Function safe_indexing is deprecated; safe_indexing is deprecated in version 0.22 and will be removed in version 0.24.\n",
            "  warnings.warn(msg, category=FutureWarning)\n"
          ]
        }
      ]
    },
    {
      "cell_type": "code",
      "metadata": {
        "id": "dc4868bf"
      },
      "source": [
        "import xgboost as xgb\n",
        "from xgboost import XGBClassifier\n",
        "# Xgboost parameters\n",
        "xgb_params = {'learning_rate': 0.05, \n",
        "              'max_depth': 4,\n",
        "              'subsample': 0.9,        \n",
        "              'colsample_bytree': 0.9,\n",
        "              'objective': 'binary:logistic',\n",
        "              'silent': 1, \n",
        "              'n_estimators':100, \n",
        "              'gamma':1,         \n",
        "              'min_child_weight':4}   \n",
        "clf = xgb.XGBClassifier(**xgb_params, seed = 10)"
      ],
      "id": "dc4868bf",
      "execution_count": null,
      "outputs": []
    },
    {
      "cell_type": "code",
      "metadata": {
        "colab": {
          "base_uri": "https://localhost:8080/",
          "height": 522
        },
        "id": "SFIuHRgqqqS8",
        "outputId": "39c5cff4-8054-4820-cf69-332417bf7033"
      },
      "source": [
        "#y_predict_clf = clf.fit(X_class_bal, y_class_bal)\n",
        "bal_clf = clf.fit(X_class_bal, y_class_bal)\n",
        "#Predict y value for test dataset\n",
        "y_predict_clf = bal_clf.predict(X_val)\n",
        "y_prob_clf = bal_clf.predict_proba(X_val)[:,1]\n",
        "print(y_prob_clf)\n",
        "\n",
        "print(classification_report(y_val, y_predict_clf))\n",
        "print('Confusion Matrix:',confusion_matrix(y_val, y_predict_clf))"
      ],
      "id": "SFIuHRgqqqS8",
      "execution_count": null,
      "outputs": [
        {
          "output_type": "error",
          "ename": "ValueError",
          "evalue": "ignored",
          "traceback": [
            "\u001b[0;31m---------------------------------------------------------------------------\u001b[0m",
            "\u001b[0;31mValueError\u001b[0m                                Traceback (most recent call last)",
            "\u001b[0;32m<ipython-input-205-5e61ac460418>\u001b[0m in \u001b[0;36m<module>\u001b[0;34m()\u001b[0m\n\u001b[1;32m      2\u001b[0m \u001b[0mbal_clf\u001b[0m \u001b[0;34m=\u001b[0m \u001b[0mclf\u001b[0m\u001b[0;34m.\u001b[0m\u001b[0mfit\u001b[0m\u001b[0;34m(\u001b[0m\u001b[0mX_class_bal\u001b[0m\u001b[0;34m,\u001b[0m \u001b[0my_class_bal\u001b[0m\u001b[0;34m)\u001b[0m\u001b[0;34m\u001b[0m\u001b[0;34m\u001b[0m\u001b[0m\n\u001b[1;32m      3\u001b[0m \u001b[0;31m#Predict y value for test dataset\u001b[0m\u001b[0;34m\u001b[0m\u001b[0;34m\u001b[0m\u001b[0;34m\u001b[0m\u001b[0m\n\u001b[0;32m----> 4\u001b[0;31m \u001b[0my_predict_clf\u001b[0m \u001b[0;34m=\u001b[0m \u001b[0mbal_clf\u001b[0m\u001b[0;34m.\u001b[0m\u001b[0mpredict\u001b[0m\u001b[0;34m(\u001b[0m\u001b[0mX_val\u001b[0m\u001b[0;34m)\u001b[0m\u001b[0;34m\u001b[0m\u001b[0;34m\u001b[0m\u001b[0m\n\u001b[0m\u001b[1;32m      5\u001b[0m \u001b[0my_prob_clf\u001b[0m \u001b[0;34m=\u001b[0m \u001b[0mbal_clf\u001b[0m\u001b[0;34m.\u001b[0m\u001b[0mpredict_proba\u001b[0m\u001b[0;34m(\u001b[0m\u001b[0mX_val\u001b[0m\u001b[0;34m)\u001b[0m\u001b[0;34m[\u001b[0m\u001b[0;34m:\u001b[0m\u001b[0;34m,\u001b[0m\u001b[0;36m1\u001b[0m\u001b[0;34m]\u001b[0m\u001b[0;34m\u001b[0m\u001b[0;34m\u001b[0m\u001b[0m\n\u001b[1;32m      6\u001b[0m \u001b[0mprint\u001b[0m\u001b[0;34m(\u001b[0m\u001b[0my_prob_clf\u001b[0m\u001b[0;34m)\u001b[0m\u001b[0;34m\u001b[0m\u001b[0;34m\u001b[0m\u001b[0m\n",
            "\u001b[0;32m/usr/local/lib/python3.7/dist-packages/xgboost/sklearn.py\u001b[0m in \u001b[0;36mpredict\u001b[0;34m(self, data, output_margin, ntree_limit, validate_features)\u001b[0m\n\u001b[1;32m    789\u001b[0m                                                  \u001b[0moutput_margin\u001b[0m\u001b[0;34m=\u001b[0m\u001b[0moutput_margin\u001b[0m\u001b[0;34m,\u001b[0m\u001b[0;34m\u001b[0m\u001b[0;34m\u001b[0m\u001b[0m\n\u001b[1;32m    790\u001b[0m                                                  \u001b[0mntree_limit\u001b[0m\u001b[0;34m=\u001b[0m\u001b[0mntree_limit\u001b[0m\u001b[0;34m,\u001b[0m\u001b[0;34m\u001b[0m\u001b[0;34m\u001b[0m\u001b[0m\n\u001b[0;32m--> 791\u001b[0;31m                                                  validate_features=validate_features)\n\u001b[0m\u001b[1;32m    792\u001b[0m         \u001b[0;32mif\u001b[0m \u001b[0moutput_margin\u001b[0m\u001b[0;34m:\u001b[0m\u001b[0;34m\u001b[0m\u001b[0;34m\u001b[0m\u001b[0m\n\u001b[1;32m    793\u001b[0m             \u001b[0;31m# If output_margin is active, simply return the scores\u001b[0m\u001b[0;34m\u001b[0m\u001b[0;34m\u001b[0m\u001b[0;34m\u001b[0m\u001b[0m\n",
            "\u001b[0;32m/usr/local/lib/python3.7/dist-packages/xgboost/core.py\u001b[0m in \u001b[0;36mpredict\u001b[0;34m(self, data, output_margin, ntree_limit, pred_leaf, pred_contribs, approx_contribs, pred_interactions, validate_features)\u001b[0m\n\u001b[1;32m   1282\u001b[0m \u001b[0;34m\u001b[0m\u001b[0m\n\u001b[1;32m   1283\u001b[0m         \u001b[0;32mif\u001b[0m \u001b[0mvalidate_features\u001b[0m\u001b[0;34m:\u001b[0m\u001b[0;34m\u001b[0m\u001b[0;34m\u001b[0m\u001b[0m\n\u001b[0;32m-> 1284\u001b[0;31m             \u001b[0mself\u001b[0m\u001b[0;34m.\u001b[0m\u001b[0m_validate_features\u001b[0m\u001b[0;34m(\u001b[0m\u001b[0mdata\u001b[0m\u001b[0;34m)\u001b[0m\u001b[0;34m\u001b[0m\u001b[0;34m\u001b[0m\u001b[0m\n\u001b[0m\u001b[1;32m   1285\u001b[0m \u001b[0;34m\u001b[0m\u001b[0m\n\u001b[1;32m   1286\u001b[0m         \u001b[0mlength\u001b[0m \u001b[0;34m=\u001b[0m \u001b[0mc_bst_ulong\u001b[0m\u001b[0;34m(\u001b[0m\u001b[0;34m)\u001b[0m\u001b[0;34m\u001b[0m\u001b[0;34m\u001b[0m\u001b[0m\n",
            "\u001b[0;32m/usr/local/lib/python3.7/dist-packages/xgboost/core.py\u001b[0m in \u001b[0;36m_validate_features\u001b[0;34m(self, data)\u001b[0m\n\u001b[1;32m   1688\u001b[0m \u001b[0;34m\u001b[0m\u001b[0m\n\u001b[1;32m   1689\u001b[0m                 raise ValueError(msg.format(self.feature_names,\n\u001b[0;32m-> 1690\u001b[0;31m                                             data.feature_names))\n\u001b[0m\u001b[1;32m   1691\u001b[0m \u001b[0;34m\u001b[0m\u001b[0m\n\u001b[1;32m   1692\u001b[0m     \u001b[0;32mdef\u001b[0m \u001b[0mget_split_value_histogram\u001b[0m\u001b[0;34m(\u001b[0m\u001b[0mself\u001b[0m\u001b[0;34m,\u001b[0m \u001b[0mfeature\u001b[0m\u001b[0;34m,\u001b[0m \u001b[0mfmap\u001b[0m\u001b[0;34m=\u001b[0m\u001b[0;34m''\u001b[0m\u001b[0;34m,\u001b[0m \u001b[0mbins\u001b[0m\u001b[0;34m=\u001b[0m\u001b[0;32mNone\u001b[0m\u001b[0;34m,\u001b[0m \u001b[0mas_pandas\u001b[0m\u001b[0;34m=\u001b[0m\u001b[0;32mTrue\u001b[0m\u001b[0;34m)\u001b[0m\u001b[0;34m:\u001b[0m\u001b[0;34m\u001b[0m\u001b[0;34m\u001b[0m\u001b[0m\n",
            "\u001b[0;31mValueError\u001b[0m: feature_names mismatch: ['f0', 'f1', 'f2', 'f3', 'f4', 'f5', 'f6', 'f7', 'f8', 'f9'] ['absorbance82', 'absorbance83', 'absorbance84', 'absorbance85', 'absorbance86', 'absorbance87', 'absorbance131', 'absorbance134', 'absorbance135', 'absorbance137']\nexpected f3, f8, f6, f7, f2, f1, f0, f5, f9, f4 in input data\ntraining data did not have the following fields: absorbance82, absorbance87, absorbance85, absorbance131, absorbance134, absorbance84, absorbance83, absorbance137, absorbance135, absorbance86"
          ]
        }
      ]
    },
    {
      "cell_type": "code",
      "metadata": {
        "id": "5kRiAWkwpfQK"
      },
      "source": [
        "#probs = clf.predict_proba(X)[:,1]"
      ],
      "id": "5kRiAWkwpfQK",
      "execution_count": null,
      "outputs": []
    },
    {
      "cell_type": "markdown",
      "metadata": {
        "id": "Jtf7j8SPJaLl"
      },
      "source": [
        "## How to find Trimmed Mean"
      ],
      "id": "Jtf7j8SPJaLl"
    },
    {
      "cell_type": "code",
      "metadata": {
        "id": "hooxeIfrqVeM"
      },
      "source": [
        "# # Save the trimmed mean to trmean_budget\n",
        "# from scipy.stats import trim_mean\n",
        "# trmean_budget = trim_mean(movies.production_budget, proportiontocut=0.2) # Trim extreme 10%\n",
        "# print('Trimmed mean is: ', trmean_budget)"
      ],
      "id": "hooxeIfrqVeM",
      "execution_count": null,
      "outputs": []
    }
  ]
}